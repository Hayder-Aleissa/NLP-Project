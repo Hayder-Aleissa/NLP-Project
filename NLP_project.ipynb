{
 "cells": [
  {
   "cell_type": "markdown",
   "id": "1c4ddacd",
   "metadata": {},
   "source": [
    "## Part-B: Multiclass App Review Classification: from scratch"
   ]
  },
  {
   "cell_type": "code",
   "execution_count": null,
   "id": "572f3df4",
   "metadata": {},
   "outputs": [],
   "source": []
  },
  {
   "cell_type": "markdown",
   "id": "14b5f80a",
   "metadata": {},
   "source": [
    "## Part-C: Multilabel App Review Classification: from scratch"
   ]
  },
  {
   "cell_type": "code",
   "execution_count": null,
   "id": "32b784ef",
   "metadata": {},
   "outputs": [],
   "source": []
  },
  {
   "cell_type": "markdown",
   "id": "0b4f4239",
   "metadata": {},
   "source": [
    "## Part-D: Multiclass App Review Classification: Finetune an MLM"
   ]
  },
  {
   "cell_type": "code",
   "execution_count": null,
   "id": "7c14768e",
   "metadata": {},
   "outputs": [],
   "source": []
  },
  {
   "cell_type": "markdown",
   "id": "95e14cd5",
   "metadata": {},
   "source": [
    "## Part-E: Multilabel App Review Classification: Finetune an MLM"
   ]
  },
  {
   "cell_type": "code",
   "execution_count": null,
   "id": "bd0bfc5b",
   "metadata": {},
   "outputs": [],
   "source": []
  },
  {
   "cell_type": "markdown",
   "id": "4e98776b",
   "metadata": {},
   "source": [
    "## Part-F: Multiclass App Review Classification: In-Context learning using causal LLM\n"
   ]
  },
  {
   "cell_type": "markdown",
   "id": "22f2959f",
   "metadata": {},
   "source": [
    "#### Zero-shot learning"
   ]
  },
  {
   "cell_type": "code",
   "execution_count": null,
   "id": "4be851b4",
   "metadata": {},
   "outputs": [],
   "source": []
  },
  {
   "cell_type": "markdown",
   "id": "4285809c",
   "metadata": {},
   "source": [
    "#### Few-shot learning"
   ]
  },
  {
   "cell_type": "code",
   "execution_count": null,
   "id": "1e7d2b2a",
   "metadata": {},
   "outputs": [],
   "source": []
  },
  {
   "cell_type": "markdown",
   "id": "964152ab",
   "metadata": {},
   "source": [
    "## Part-G: Multilabel App Review Classification: In-Context learning using causal LLM\n"
   ]
  },
  {
   "cell_type": "markdown",
   "id": "a08d2b5a",
   "metadata": {},
   "source": [
    "#### Zero-shot learning"
   ]
  },
  {
   "cell_type": "code",
   "execution_count": null,
   "id": "edd4177e",
   "metadata": {},
   "outputs": [],
   "source": []
  },
  {
   "cell_type": "markdown",
   "id": "118e681c",
   "metadata": {},
   "source": [
    "#### Few-shot learning"
   ]
  },
  {
   "cell_type": "code",
   "execution_count": null,
   "id": "7e3d6dc2",
   "metadata": {},
   "outputs": [],
   "source": []
  }
 ],
 "metadata": {
  "language_info": {
   "name": "python"
  }
 },
 "nbformat": 4,
 "nbformat_minor": 5
}

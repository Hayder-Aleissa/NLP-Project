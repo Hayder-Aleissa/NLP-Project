{
  "cells": [
    {
      "cell_type": "markdown",
      "id": "aiS2X7nxCwyq",
      "metadata": {
        "id": "aiS2X7nxCwyq"
      },
      "source": [
        "### Libraries used\n",
        "\n"
      ]
    },
    {
      "cell_type": "code",
      "execution_count": 2,
      "id": "xSPqvpvzs4NO",
      "metadata": {
        "colab": {
          "base_uri": "https://localhost:8080/"
        },
        "id": "xSPqvpvzs4NO",
        "outputId": "33dde5a6-0e96-4065-86e7-7d23abe81d45"
      },
      "outputs": [
        {
          "output_type": "stream",
          "name": "stdout",
          "text": [
            "Mounted at /content/drive\n"
          ]
        }
      ],
      "source": [
        "from google.colab import drive\n",
        "drive.mount('/content/drive')"
      ]
    },
    {
      "cell_type": "code",
      "execution_count": 3,
      "id": "SEijNUwstBjN",
      "metadata": {
        "colab": {
          "base_uri": "https://localhost:8080/"
        },
        "id": "SEijNUwstBjN",
        "outputId": "44df20a5-6b1d-44a1-ce55-a0c646138039"
      },
      "outputs": [
        {
          "output_type": "stream",
          "name": "stdout",
          "text": [
            "/content/drive/MyDrive/NLP\n"
          ]
        }
      ],
      "source": [
        "cd drive/MyDrive/NLP"
      ]
    },
    {
      "cell_type": "code",
      "execution_count": 4,
      "id": "6UBY_JMZtYxJ",
      "metadata": {
        "colab": {
          "base_uri": "https://localhost:8080/"
        },
        "id": "6UBY_JMZtYxJ",
        "outputId": "640c5452-66f7-4e43-e3aa-7acb8c3df8e8"
      },
      "outputs": [
        {
          "output_type": "stream",
          "name": "stdout",
          "text": [
            " AppReview-Multilabel.csv     'App Reviews-SingleLabel-Multiclass.csv'\n",
            "'App Reviews-Multilabel.csv'   cc.ar.300.vec\n"
          ]
        }
      ],
      "source": [
        "ls"
      ]
    },
    {
      "cell_type": "code",
      "execution_count": 36,
      "id": "SfOoAN7y9YQ9",
      "metadata": {
        "id": "SfOoAN7y9YQ9"
      },
      "outputs": [],
      "source": [
        "import pandas as pd\n",
        "import numpy as np\n",
        "import matplotlib.pyplot as plt\n",
        "import seaborn as sns\n",
        "import re\n",
        "from wordcloud import WordCloud\n",
        "from sklearn.utils import resample\n",
        "from sklearn.model_selection import train_test_split\n",
        "from sklearn.preprocessing import LabelEncoder\n",
        "from sklearn.metrics import classification_report\n",
        "from collections import Counter\n",
        "from tensorflow.keras.preprocessing.text import Tokenizer\n",
        "from tensorflow.keras.preprocessing.sequence import pad_sequences\n",
        "from tensorflow.keras.utils import to_categorical\n",
        "from tensorflow.keras.models import Sequential\n",
        "from tensorflow.keras.layers import Embedding, Bidirectional, LSTM, Dense, Dropout\n",
        "from tensorflow.keras.callbacks import EarlyStopping, ReduceLROnPlateau\n"
      ]
    },
    {
      "cell_type": "code",
      "execution_count": 6,
      "id": "yF53Lu-DGgsh",
      "metadata": {
        "id": "yF53Lu-DGgsh"
      },
      "outputs": [],
      "source": [
        "# Set seed\n",
        "SEED = 777"
      ]
    },
    {
      "cell_type": "markdown",
      "id": "0t0f6e3UC997",
      "metadata": {
        "id": "0t0f6e3UC997"
      },
      "source": [
        "### Loading data"
      ]
    },
    {
      "cell_type": "code",
      "execution_count": 48,
      "id": "6WDSjBMR-K09",
      "metadata": {
        "colab": {
          "base_uri": "https://localhost:8080/",
          "height": 206
        },
        "id": "6WDSjBMR-K09",
        "outputId": "13709c23-0372-4bbc-dfb7-3e92d8c922cb"
      },
      "outputs": [
        {
          "output_type": "execute_result",
          "data": {
            "text/plain": [
              "                                              review bug_report  \\\n",
              "0                                 يبيله تصليحات كثير       High   \n",
              "1                  ماتحملت ابدددددا ونا دفعت فلوس 🤔😕         No   \n",
              "2  اتمنى منكم عمل خيار لتفضيل المسلسل بالكامل عوض...         No   \n",
              "3      ممتاز وبسيط وتشغيله لا يؤثر على سرعة الانترنت         No   \n",
              "4                                تبين م لي ي تم ل يب         No   \n",
              "\n",
              "  improvement_request  rating others  \n",
              "0              Medium     Low     No  \n",
              "1              Medium  Medium    Low  \n",
              "2                High     Low     No  \n",
              "3                  No    High     No  \n",
              "4                  No     Low   High  "
            ],
            "text/html": [
              "\n",
              "  <div id=\"df-e39af4ff-d6f9-4694-b0c2-829635b18821\" class=\"colab-df-container\">\n",
              "    <div>\n",
              "<style scoped>\n",
              "    .dataframe tbody tr th:only-of-type {\n",
              "        vertical-align: middle;\n",
              "    }\n",
              "\n",
              "    .dataframe tbody tr th {\n",
              "        vertical-align: top;\n",
              "    }\n",
              "\n",
              "    .dataframe thead th {\n",
              "        text-align: right;\n",
              "    }\n",
              "</style>\n",
              "<table border=\"1\" class=\"dataframe\">\n",
              "  <thead>\n",
              "    <tr style=\"text-align: right;\">\n",
              "      <th></th>\n",
              "      <th>review</th>\n",
              "      <th>bug_report</th>\n",
              "      <th>improvement_request</th>\n",
              "      <th>rating</th>\n",
              "      <th>others</th>\n",
              "    </tr>\n",
              "  </thead>\n",
              "  <tbody>\n",
              "    <tr>\n",
              "      <th>0</th>\n",
              "      <td>يبيله تصليحات كثير</td>\n",
              "      <td>High</td>\n",
              "      <td>Medium</td>\n",
              "      <td>Low</td>\n",
              "      <td>No</td>\n",
              "    </tr>\n",
              "    <tr>\n",
              "      <th>1</th>\n",
              "      <td>ماتحملت ابدددددا ونا دفعت فلوس 🤔😕</td>\n",
              "      <td>No</td>\n",
              "      <td>Medium</td>\n",
              "      <td>Medium</td>\n",
              "      <td>Low</td>\n",
              "    </tr>\n",
              "    <tr>\n",
              "      <th>2</th>\n",
              "      <td>اتمنى منكم عمل خيار لتفضيل المسلسل بالكامل عوض...</td>\n",
              "      <td>No</td>\n",
              "      <td>High</td>\n",
              "      <td>Low</td>\n",
              "      <td>No</td>\n",
              "    </tr>\n",
              "    <tr>\n",
              "      <th>3</th>\n",
              "      <td>ممتاز وبسيط وتشغيله لا يؤثر على سرعة الانترنت</td>\n",
              "      <td>No</td>\n",
              "      <td>No</td>\n",
              "      <td>High</td>\n",
              "      <td>No</td>\n",
              "    </tr>\n",
              "    <tr>\n",
              "      <th>4</th>\n",
              "      <td>تبين م لي ي تم ل يب</td>\n",
              "      <td>No</td>\n",
              "      <td>No</td>\n",
              "      <td>Low</td>\n",
              "      <td>High</td>\n",
              "    </tr>\n",
              "  </tbody>\n",
              "</table>\n",
              "</div>\n",
              "    <div class=\"colab-df-buttons\">\n",
              "\n",
              "  <div class=\"colab-df-container\">\n",
              "    <button class=\"colab-df-convert\" onclick=\"convertToInteractive('df-e39af4ff-d6f9-4694-b0c2-829635b18821')\"\n",
              "            title=\"Convert this dataframe to an interactive table.\"\n",
              "            style=\"display:none;\">\n",
              "\n",
              "  <svg xmlns=\"http://www.w3.org/2000/svg\" height=\"24px\" viewBox=\"0 -960 960 960\">\n",
              "    <path d=\"M120-120v-720h720v720H120Zm60-500h600v-160H180v160Zm220 220h160v-160H400v160Zm0 220h160v-160H400v160ZM180-400h160v-160H180v160Zm440 0h160v-160H620v160ZM180-180h160v-160H180v160Zm440 0h160v-160H620v160Z\"/>\n",
              "  </svg>\n",
              "    </button>\n",
              "\n",
              "  <style>\n",
              "    .colab-df-container {\n",
              "      display:flex;\n",
              "      gap: 12px;\n",
              "    }\n",
              "\n",
              "    .colab-df-convert {\n",
              "      background-color: #E8F0FE;\n",
              "      border: none;\n",
              "      border-radius: 50%;\n",
              "      cursor: pointer;\n",
              "      display: none;\n",
              "      fill: #1967D2;\n",
              "      height: 32px;\n",
              "      padding: 0 0 0 0;\n",
              "      width: 32px;\n",
              "    }\n",
              "\n",
              "    .colab-df-convert:hover {\n",
              "      background-color: #E2EBFA;\n",
              "      box-shadow: 0px 1px 2px rgba(60, 64, 67, 0.3), 0px 1px 3px 1px rgba(60, 64, 67, 0.15);\n",
              "      fill: #174EA6;\n",
              "    }\n",
              "\n",
              "    .colab-df-buttons div {\n",
              "      margin-bottom: 4px;\n",
              "    }\n",
              "\n",
              "    [theme=dark] .colab-df-convert {\n",
              "      background-color: #3B4455;\n",
              "      fill: #D2E3FC;\n",
              "    }\n",
              "\n",
              "    [theme=dark] .colab-df-convert:hover {\n",
              "      background-color: #434B5C;\n",
              "      box-shadow: 0px 1px 3px 1px rgba(0, 0, 0, 0.15);\n",
              "      filter: drop-shadow(0px 1px 2px rgba(0, 0, 0, 0.3));\n",
              "      fill: #FFFFFF;\n",
              "    }\n",
              "  </style>\n",
              "\n",
              "    <script>\n",
              "      const buttonEl =\n",
              "        document.querySelector('#df-e39af4ff-d6f9-4694-b0c2-829635b18821 button.colab-df-convert');\n",
              "      buttonEl.style.display =\n",
              "        google.colab.kernel.accessAllowed ? 'block' : 'none';\n",
              "\n",
              "      async function convertToInteractive(key) {\n",
              "        const element = document.querySelector('#df-e39af4ff-d6f9-4694-b0c2-829635b18821');\n",
              "        const dataTable =\n",
              "          await google.colab.kernel.invokeFunction('convertToInteractive',\n",
              "                                                    [key], {});\n",
              "        if (!dataTable) return;\n",
              "\n",
              "        const docLinkHtml = 'Like what you see? Visit the ' +\n",
              "          '<a target=\"_blank\" href=https://colab.research.google.com/notebooks/data_table.ipynb>data table notebook</a>'\n",
              "          + ' to learn more about interactive tables.';\n",
              "        element.innerHTML = '';\n",
              "        dataTable['output_type'] = 'display_data';\n",
              "        await google.colab.output.renderOutput(dataTable, element);\n",
              "        const docLink = document.createElement('div');\n",
              "        docLink.innerHTML = docLinkHtml;\n",
              "        element.appendChild(docLink);\n",
              "      }\n",
              "    </script>\n",
              "  </div>\n",
              "\n",
              "\n",
              "<div id=\"df-10fee79d-2ea4-446f-ac0c-b895ff4a051a\">\n",
              "  <button class=\"colab-df-quickchart\" onclick=\"quickchart('df-10fee79d-2ea4-446f-ac0c-b895ff4a051a')\"\n",
              "            title=\"Suggest charts\"\n",
              "            style=\"display:none;\">\n",
              "\n",
              "<svg xmlns=\"http://www.w3.org/2000/svg\" height=\"24px\"viewBox=\"0 0 24 24\"\n",
              "     width=\"24px\">\n",
              "    <g>\n",
              "        <path d=\"M19 3H5c-1.1 0-2 .9-2 2v14c0 1.1.9 2 2 2h14c1.1 0 2-.9 2-2V5c0-1.1-.9-2-2-2zM9 17H7v-7h2v7zm4 0h-2V7h2v10zm4 0h-2v-4h2v4z\"/>\n",
              "    </g>\n",
              "</svg>\n",
              "  </button>\n",
              "\n",
              "<style>\n",
              "  .colab-df-quickchart {\n",
              "      --bg-color: #E8F0FE;\n",
              "      --fill-color: #1967D2;\n",
              "      --hover-bg-color: #E2EBFA;\n",
              "      --hover-fill-color: #174EA6;\n",
              "      --disabled-fill-color: #AAA;\n",
              "      --disabled-bg-color: #DDD;\n",
              "  }\n",
              "\n",
              "  [theme=dark] .colab-df-quickchart {\n",
              "      --bg-color: #3B4455;\n",
              "      --fill-color: #D2E3FC;\n",
              "      --hover-bg-color: #434B5C;\n",
              "      --hover-fill-color: #FFFFFF;\n",
              "      --disabled-bg-color: #3B4455;\n",
              "      --disabled-fill-color: #666;\n",
              "  }\n",
              "\n",
              "  .colab-df-quickchart {\n",
              "    background-color: var(--bg-color);\n",
              "    border: none;\n",
              "    border-radius: 50%;\n",
              "    cursor: pointer;\n",
              "    display: none;\n",
              "    fill: var(--fill-color);\n",
              "    height: 32px;\n",
              "    padding: 0;\n",
              "    width: 32px;\n",
              "  }\n",
              "\n",
              "  .colab-df-quickchart:hover {\n",
              "    background-color: var(--hover-bg-color);\n",
              "    box-shadow: 0 1px 2px rgba(60, 64, 67, 0.3), 0 1px 3px 1px rgba(60, 64, 67, 0.15);\n",
              "    fill: var(--button-hover-fill-color);\n",
              "  }\n",
              "\n",
              "  .colab-df-quickchart-complete:disabled,\n",
              "  .colab-df-quickchart-complete:disabled:hover {\n",
              "    background-color: var(--disabled-bg-color);\n",
              "    fill: var(--disabled-fill-color);\n",
              "    box-shadow: none;\n",
              "  }\n",
              "\n",
              "  .colab-df-spinner {\n",
              "    border: 2px solid var(--fill-color);\n",
              "    border-color: transparent;\n",
              "    border-bottom-color: var(--fill-color);\n",
              "    animation:\n",
              "      spin 1s steps(1) infinite;\n",
              "  }\n",
              "\n",
              "  @keyframes spin {\n",
              "    0% {\n",
              "      border-color: transparent;\n",
              "      border-bottom-color: var(--fill-color);\n",
              "      border-left-color: var(--fill-color);\n",
              "    }\n",
              "    20% {\n",
              "      border-color: transparent;\n",
              "      border-left-color: var(--fill-color);\n",
              "      border-top-color: var(--fill-color);\n",
              "    }\n",
              "    30% {\n",
              "      border-color: transparent;\n",
              "      border-left-color: var(--fill-color);\n",
              "      border-top-color: var(--fill-color);\n",
              "      border-right-color: var(--fill-color);\n",
              "    }\n",
              "    40% {\n",
              "      border-color: transparent;\n",
              "      border-right-color: var(--fill-color);\n",
              "      border-top-color: var(--fill-color);\n",
              "    }\n",
              "    60% {\n",
              "      border-color: transparent;\n",
              "      border-right-color: var(--fill-color);\n",
              "    }\n",
              "    80% {\n",
              "      border-color: transparent;\n",
              "      border-right-color: var(--fill-color);\n",
              "      border-bottom-color: var(--fill-color);\n",
              "    }\n",
              "    90% {\n",
              "      border-color: transparent;\n",
              "      border-bottom-color: var(--fill-color);\n",
              "    }\n",
              "  }\n",
              "</style>\n",
              "\n",
              "  <script>\n",
              "    async function quickchart(key) {\n",
              "      const quickchartButtonEl =\n",
              "        document.querySelector('#' + key + ' button');\n",
              "      quickchartButtonEl.disabled = true;  // To prevent multiple clicks.\n",
              "      quickchartButtonEl.classList.add('colab-df-spinner');\n",
              "      try {\n",
              "        const charts = await google.colab.kernel.invokeFunction(\n",
              "            'suggestCharts', [key], {});\n",
              "      } catch (error) {\n",
              "        console.error('Error during call to suggestCharts:', error);\n",
              "      }\n",
              "      quickchartButtonEl.classList.remove('colab-df-spinner');\n",
              "      quickchartButtonEl.classList.add('colab-df-quickchart-complete');\n",
              "    }\n",
              "    (() => {\n",
              "      let quickchartButtonEl =\n",
              "        document.querySelector('#df-10fee79d-2ea4-446f-ac0c-b895ff4a051a button');\n",
              "      quickchartButtonEl.style.display =\n",
              "        google.colab.kernel.accessAllowed ? 'block' : 'none';\n",
              "    })();\n",
              "  </script>\n",
              "</div>\n",
              "\n",
              "    </div>\n",
              "  </div>\n"
            ],
            "application/vnd.google.colaboratory.intrinsic+json": {
              "type": "dataframe",
              "variable_name": "df",
              "summary": "{\n  \"name\": \"df\",\n  \"rows\": 2900,\n  \"fields\": [\n    {\n      \"column\": \"review\",\n      \"properties\": {\n        \"dtype\": \"string\",\n        \"num_unique_values\": 2892,\n        \"samples\": [\n          \"\\u0645\\u0646 \\u0627\\u0641\\u0636\\u0644 \\u0627\\u0644\\u062a\\u0628\\u064a\\u0637\\u0642\\u0627\\u062a \\u0628\\u0639\\u062f \\u062a\\u0648\\u0643\\u0644\\u0646\\u0627\",\n          \"\\u0645\\u0634\\u0643\\u0644\\u062a\\u0647 \\u0628\\u064a\\u0639\\u0645\\u0644 \\u062a\\u0648\\u0642\\u0641 \\u0644\\u0644\\u0627\\u0645\\u064a\\u0644 \\u0648\\u0627\\u0644\\u0633\\u0628\\u0628 \\u0643\\u062b\\u0631\\u0647 \\u0627\\u0644\\u0627\\u0628\\u0644\\u0627\\u063a\\u0627\\u062a \\u0648\\u0627\\u0646\\u0627 \\u0645\\u0634 \\u0628\\u0641\\u062a\\u062d\\u0647 \\u0627\\u0635\\u0644\\u0627\",\n          \"\\u064a\\u0627 \\u0644\\u064a\\u062a \\u062a\\u0636\\u064a\\u0641\\u0648\\u0646 \\u062e\\u064a\\u0627\\u0631\\u0627\\u062a \\u0627\\u062f\\u062e\\u0627\\u0644 \\u0627\\u0644\\u0645\\u0639\\u0644\\u0648\\u0645\\u0627\\u062a\"\n        ],\n        \"semantic_type\": \"\",\n        \"description\": \"\"\n      }\n    },\n    {\n      \"column\": \"bug_report\",\n      \"properties\": {\n        \"dtype\": \"category\",\n        \"num_unique_values\": 4,\n        \"samples\": [\n          \"No\",\n          \"Medium\",\n          \"High\"\n        ],\n        \"semantic_type\": \"\",\n        \"description\": \"\"\n      }\n    },\n    {\n      \"column\": \"improvement_request\",\n      \"properties\": {\n        \"dtype\": \"category\",\n        \"num_unique_values\": 4,\n        \"samples\": [\n          \"High\",\n          \"Low\",\n          \"Medium\"\n        ],\n        \"semantic_type\": \"\",\n        \"description\": \"\"\n      }\n    },\n    {\n      \"column\": \"rating\",\n      \"properties\": {\n        \"dtype\": \"category\",\n        \"num_unique_values\": 4,\n        \"samples\": [\n          \"Medium\",\n          \"No\",\n          \"Low\"\n        ],\n        \"semantic_type\": \"\",\n        \"description\": \"\"\n      }\n    },\n    {\n      \"column\": \"others\",\n      \"properties\": {\n        \"dtype\": \"category\",\n        \"num_unique_values\": 4,\n        \"samples\": [\n          \"Low\",\n          \"Medium\",\n          \"No\"\n        ],\n        \"semantic_type\": \"\",\n        \"description\": \"\"\n      }\n    }\n  ]\n}"
            }
          },
          "metadata": {},
          "execution_count": 48
        }
      ],
      "source": [
        "# Load dataset\n",
        "df = pd.read_csv(\"AppReview-Multilabel.csv\")\n",
        "df.head()"
      ]
    },
    {
      "cell_type": "code",
      "execution_count": 8,
      "id": "jVIMWUanEX_c",
      "metadata": {
        "colab": {
          "base_uri": "https://localhost:8080/"
        },
        "id": "jVIMWUanEX_c",
        "outputId": "2de0de45-1f95-4ea4-d00d-411e982f5d32"
      },
      "outputs": [
        {
          "output_type": "stream",
          "name": "stdout",
          "text": [
            "              review bug_report improvement_request rating others\n",
            "count           2900       2900                2900   2900   2900\n",
            "unique          2892          4                   4      4      4\n",
            "top     اكثر من رائع         No                  No   High     No\n",
            "freq               3       1736                1797    988   2080\n"
          ]
        }
      ],
      "source": [
        "print(df.describe())"
      ]
    },
    {
      "cell_type": "markdown",
      "id": "1c4ddacd",
      "metadata": {
        "id": "1c4ddacd"
      },
      "source": [
        "## Part-B: Multiclass App Review Classification: from scratch\n",
        "\n"
      ]
    },
    {
      "cell_type": "markdown",
      "id": "xZlfdzwjDF06",
      "metadata": {
        "id": "xZlfdzwjDF06"
      },
      "source": [
        "#### B.1 Lable distribution"
      ]
    },
    {
      "cell_type": "code",
      "execution_count": 49,
      "id": "DKJ8_8-k-LLs",
      "metadata": {
        "colab": {
          "base_uri": "https://localhost:8080/",
          "height": 410
        },
        "id": "DKJ8_8-k-LLs",
        "outputId": "f3d503b9-8afc-4019-e32e-993ef8bef3c7"
      },
      "outputs": [
        {
          "output_type": "display_data",
          "data": {
            "text/plain": [
              "<Figure size 800x400 with 1 Axes>"
            ],
            "image/png": "[encoded data removed]"
          },
          "metadata": {}
        }
      ],
      "source": [
        "# Count non-\"No\" values to estimate multilabel counts\n",
        "class_cols = ['bug_report', 'improvement_request', 'rating', 'others']\n",
        "label_counts = {}\n",
        "\n",
        "for col in class_cols:\n",
        "    label_counts[col] = (df[col] != \"No\").sum()\n",
        "\n",
        "# Plot label distribution\n",
        "plt.figure(figsize=(8, 4))\n",
        "sns.barplot(x=list(label_counts.keys()), y=list(label_counts.values()))\n",
        "plt.title(\"Label Distribution in Multilabel Dataset\")\n",
        "plt.ylabel(\"Number of Reviews\")\n",
        "plt.xlabel(\"Label Type\")\n",
        "plt.show()\n"
      ]
    },
    {
      "cell_type": "code",
      "execution_count": 50,
      "id": "eII3dGr8-OOO",
      "metadata": {
        "colab": {
          "base_uri": "https://localhost:8080/",
          "height": 508
        },
        "id": "eII3dGr8-OOO",
        "outputId": "813d9c33-8bdc-4658-e705-40686cd1dcc8"
      },
      "outputs": [
        {
          "output_type": "display_data",
          "data": {
            "text/plain": [
              "<Figure size 640x480 with 1 Axes>"
            ],
            "image/png": "[encoded data removed]"
          },
          "metadata": {}
        },
        {
          "output_type": "stream",
          "name": "stdout",
          "text": [
            "\n",
            "Average Review Length: 13.551724137931034\n"
          ]
        }
      ],
      "source": [
        "df['review_length'] = df['review'].apply(lambda x: len(str(x).split()))\n",
        "\n",
        "\n",
        "plt.hist(df['review_length'], bins=range(0, 151, 10), edgecolor=\"black\")  # Adjust bins for better granularity\n",
        "plt.title(\"Distribution of Review Lengths\")\n",
        "plt.xlim(0, 150)  # Set x-axis range\n",
        "plt.xticks(range(0, 151, 30))  # Adjust tick marks\n",
        "plt.xlabel(\"Number of Words\")\n",
        "plt.ylabel(\"Number of Reviews\")\n",
        "plt.show()\n",
        "\n",
        "print(\"\\nAverage Review Length:\", df['review_length'].mean())\n",
        "\n"
      ]
    },
    {
      "cell_type": "markdown",
      "id": "urzdN9QEDR7R",
      "metadata": {
        "id": "urzdN9QEDR7R"
      },
      "source": [
        "#### B.2 Conversion to multiclass"
      ]
    },
    {
      "cell_type": "code",
      "execution_count": 51,
      "id": "mH6cVOdU-NHj",
      "metadata": {
        "colab": {
          "base_uri": "https://localhost:8080/",
          "height": 240
        },
        "id": "mH6cVOdU-NHj",
        "outputId": "a6a053e9-419c-4b9a-faf8-da622a87ba89"
      },
      "outputs": [
        {
          "output_type": "execute_result",
          "data": {
            "text/plain": [
              "label\n",
              "bug_report             1164\n",
              "rating                  944\n",
              "improvement_request     595\n",
              "others                  197\n",
              "Name: count, dtype: int64"
            ],
            "text/html": [
              "<div>\n",
              "<style scoped>\n",
              "    .dataframe tbody tr th:only-of-type {\n",
              "        vertical-align: middle;\n",
              "    }\n",
              "\n",
              "    .dataframe tbody tr th {\n",
              "        vertical-align: top;\n",
              "    }\n",
              "\n",
              "    .dataframe thead th {\n",
              "        text-align: right;\n",
              "    }\n",
              "</style>\n",
              "<table border=\"1\" class=\"dataframe\">\n",
              "  <thead>\n",
              "    <tr style=\"text-align: right;\">\n",
              "      <th></th>\n",
              "      <th>count</th>\n",
              "    </tr>\n",
              "    <tr>\n",
              "      <th>label</th>\n",
              "      <th></th>\n",
              "    </tr>\n",
              "  </thead>\n",
              "  <tbody>\n",
              "    <tr>\n",
              "      <th>bug_report</th>\n",
              "      <td>1164</td>\n",
              "    </tr>\n",
              "    <tr>\n",
              "      <th>rating</th>\n",
              "      <td>944</td>\n",
              "    </tr>\n",
              "    <tr>\n",
              "      <th>improvement_request</th>\n",
              "      <td>595</td>\n",
              "    </tr>\n",
              "    <tr>\n",
              "      <th>others</th>\n",
              "      <td>197</td>\n",
              "    </tr>\n",
              "  </tbody>\n",
              "</table>\n",
              "</div><br><label><b>dtype:</b> int64</label>"
            ]
          },
          "metadata": {},
          "execution_count": 51
        }
      ],
      "source": [
        "def assign_single_label(row):\n",
        "    if row['bug_report'] != 'No':\n",
        "        return 'bug_report'\n",
        "    elif row['improvement_request'] != 'No':\n",
        "        return 'improvement_request'\n",
        "    elif row['rating'] != 'No':\n",
        "        return 'rating'\n",
        "    else:\n",
        "        return 'others'\n",
        "\n",
        "df['label'] = df.apply(assign_single_label, axis=1)\n",
        "df['label'].value_counts()\n"
      ]
    },
    {
      "cell_type": "markdown",
      "id": "gs5n3FyJFJHz",
      "metadata": {
        "id": "gs5n3FyJFJHz"
      },
      "source": [
        "#### B.3 Text preprocessing"
      ]
    },
    {
      "cell_type": "code",
      "execution_count": 52,
      "id": "87a6t9OW-SX4",
      "metadata": {
        "colab": {
          "base_uri": "https://localhost:8080/",
          "height": 206
        },
        "id": "87a6t9OW-SX4",
        "outputId": "88484cea-6e7a-4e05-e322-903dc67aceca"
      },
      "outputs": [
        {
          "output_type": "execute_result",
          "data": {
            "text/plain": [
              "                                              review  \\\n",
              "0                                 يبيله تصليحات كثير   \n",
              "1                  ماتحملت ابدددددا ونا دفعت فلوس 🤔😕   \n",
              "2  اتمنى منكم عمل خيار لتفضيل المسلسل بالكامل عوض...   \n",
              "3      ممتاز وبسيط وتشغيله لا يؤثر على سرعة الانترنت   \n",
              "4                                تبين م لي ي تم ل يب   \n",
              "\n",
              "                                      cleaned_review  \n",
              "0                                 يبيله تصليحات كثير  \n",
              "1                        ماتحملت ابددا ونا دفعت فلوس  \n",
              "2  اتمني منكم عمل خيار لتفضيل المسلسل بالكامل عوض...  \n",
              "3      ممتاز وبسيط وتشغيله لا يوثر علي سرعه الانترنت  \n",
              "4                                تبين م لي ي تم ل يب  "
            ],
            "text/html": [
              "\n",
              "  <div id=\"df-0302cf2e-2c0e-4934-985a-83f3cb8f6850\" class=\"colab-df-container\">\n",
              "    <div>\n",
              "<style scoped>\n",
              "    .dataframe tbody tr th:only-of-type {\n",
              "        vertical-align: middle;\n",
              "    }\n",
              "\n",
              "    .dataframe tbody tr th {\n",
              "        vertical-align: top;\n",
              "    }\n",
              "\n",
              "    .dataframe thead th {\n",
              "        text-align: right;\n",
              "    }\n",
              "</style>\n",
              "<table border=\"1\" class=\"dataframe\">\n",
              "  <thead>\n",
              "    <tr style=\"text-align: right;\">\n",
              "      <th></th>\n",
              "      <th>review</th>\n",
              "      <th>cleaned_review</th>\n",
              "    </tr>\n",
              "  </thead>\n",
              "  <tbody>\n",
              "    <tr>\n",
              "      <th>0</th>\n",
              "      <td>يبيله تصليحات كثير</td>\n",
              "      <td>يبيله تصليحات كثير</td>\n",
              "    </tr>\n",
              "    <tr>\n",
              "      <th>1</th>\n",
              "      <td>ماتحملت ابدددددا ونا دفعت فلوس 🤔😕</td>\n",
              "      <td>ماتحملت ابددا ونا دفعت فلوس</td>\n",
              "    </tr>\n",
              "    <tr>\n",
              "      <th>2</th>\n",
              "      <td>اتمنى منكم عمل خيار لتفضيل المسلسل بالكامل عوض...</td>\n",
              "      <td>اتمني منكم عمل خيار لتفضيل المسلسل بالكامل عوض...</td>\n",
              "    </tr>\n",
              "    <tr>\n",
              "      <th>3</th>\n",
              "      <td>ممتاز وبسيط وتشغيله لا يؤثر على سرعة الانترنت</td>\n",
              "      <td>ممتاز وبسيط وتشغيله لا يوثر علي سرعه الانترنت</td>\n",
              "    </tr>\n",
              "    <tr>\n",
              "      <th>4</th>\n",
              "      <td>تبين م لي ي تم ل يب</td>\n",
              "      <td>تبين م لي ي تم ل يب</td>\n",
              "    </tr>\n",
              "  </tbody>\n",
              "</table>\n",
              "</div>\n",
              "    <div class=\"colab-df-buttons\">\n",
              "\n",
              "  <div class=\"colab-df-container\">\n",
              "    <button class=\"colab-df-convert\" onclick=\"convertToInteractive('df-0302cf2e-2c0e-4934-985a-83f3cb8f6850')\"\n",
              "            title=\"Convert this dataframe to an interactive table.\"\n",
              "            style=\"display:none;\">\n",
              "\n",
              "  <svg xmlns=\"http://www.w3.org/2000/svg\" height=\"24px\" viewBox=\"0 -960 960 960\">\n",
              "    <path d=\"M120-120v-720h720v720H120Zm60-500h600v-160H180v160Zm220 220h160v-160H400v160Zm0 220h160v-160H400v160ZM180-400h160v-160H180v160Zm440 0h160v-160H620v160ZM180-180h160v-160H180v160Zm440 0h160v-160H620v160Z\"/>\n",
              "  </svg>\n",
              "    </button>\n",
              "\n",
              "  <style>\n",
              "    .colab-df-container {\n",
              "      display:flex;\n",
              "      gap: 12px;\n",
              "    }\n",
              "\n",
              "    .colab-df-convert {\n",
              "      background-color: #E8F0FE;\n",
              "      border: none;\n",
              "      border-radius: 50%;\n",
              "      cursor: pointer;\n",
              "      display: none;\n",
              "      fill: #1967D2;\n",
              "      height: 32px;\n",
              "      padding: 0 0 0 0;\n",
              "      width: 32px;\n",
              "    }\n",
              "\n",
              "    .colab-df-convert:hover {\n",
              "      background-color: #E2EBFA;\n",
              "      box-shadow: 0px 1px 2px rgba(60, 64, 67, 0.3), 0px 1px 3px 1px rgba(60, 64, 67, 0.15);\n",
              "      fill: #174EA6;\n",
              "    }\n",
              "\n",
              "    .colab-df-buttons div {\n",
              "      margin-bottom: 4px;\n",
              "    }\n",
              "\n",
              "    [theme=dark] .colab-df-convert {\n",
              "      background-color: #3B4455;\n",
              "      fill: #D2E3FC;\n",
              "    }\n",
              "\n",
              "    [theme=dark] .colab-df-convert:hover {\n",
              "      background-color: #434B5C;\n",
              "      box-shadow: 0px 1px 3px 1px rgba(0, 0, 0, 0.15);\n",
              "      filter: drop-shadow(0px 1px 2px rgba(0, 0, 0, 0.3));\n",
              "      fill: #FFFFFF;\n",
              "    }\n",
              "  </style>\n",
              "\n",
              "    <script>\n",
              "      const buttonEl =\n",
              "        document.querySelector('#df-0302cf2e-2c0e-4934-985a-83f3cb8f6850 button.colab-df-convert');\n",
              "      buttonEl.style.display =\n",
              "        google.colab.kernel.accessAllowed ? 'block' : 'none';\n",
              "\n",
              "      async function convertToInteractive(key) {\n",
              "        const element = document.querySelector('#df-0302cf2e-2c0e-4934-985a-83f3cb8f6850');\n",
              "        const dataTable =\n",
              "          await google.colab.kernel.invokeFunction('convertToInteractive',\n",
              "                                                    [key], {});\n",
              "        if (!dataTable) return;\n",
              "\n",
              "        const docLinkHtml = 'Like what you see? Visit the ' +\n",
              "          '<a target=\"_blank\" href=https://colab.research.google.com/notebooks/data_table.ipynb>data table notebook</a>'\n",
              "          + ' to learn more about interactive tables.';\n",
              "        element.innerHTML = '';\n",
              "        dataTable['output_type'] = 'display_data';\n",
              "        await google.colab.output.renderOutput(dataTable, element);\n",
              "        const docLink = document.createElement('div');\n",
              "        docLink.innerHTML = docLinkHtml;\n",
              "        element.appendChild(docLink);\n",
              "      }\n",
              "    </script>\n",
              "  </div>\n",
              "\n",
              "\n",
              "<div id=\"df-3ea948b0-4cc0-4617-98ff-c2a9112ced60\">\n",
              "  <button class=\"colab-df-quickchart\" onclick=\"quickchart('df-3ea948b0-4cc0-4617-98ff-c2a9112ced60')\"\n",
              "            title=\"Suggest charts\"\n",
              "            style=\"display:none;\">\n",
              "\n",
              "<svg xmlns=\"http://www.w3.org/2000/svg\" height=\"24px\"viewBox=\"0 0 24 24\"\n",
              "     width=\"24px\">\n",
              "    <g>\n",
              "        <path d=\"M19 3H5c-1.1 0-2 .9-2 2v14c0 1.1.9 2 2 2h14c1.1 0 2-.9 2-2V5c0-1.1-.9-2-2-2zM9 17H7v-7h2v7zm4 0h-2V7h2v10zm4 0h-2v-4h2v4z\"/>\n",
              "    </g>\n",
              "</svg>\n",
              "  </button>\n",
              "\n",
              "<style>\n",
              "  .colab-df-quickchart {\n",
              "      --bg-color: #E8F0FE;\n",
              "      --fill-color: #1967D2;\n",
              "      --hover-bg-color: #E2EBFA;\n",
              "      --hover-fill-color: #174EA6;\n",
              "      --disabled-fill-color: #AAA;\n",
              "      --disabled-bg-color: #DDD;\n",
              "  }\n",
              "\n",
              "  [theme=dark] .colab-df-quickchart {\n",
              "      --bg-color: #3B4455;\n",
              "      --fill-color: #D2E3FC;\n",
              "      --hover-bg-color: #434B5C;\n",
              "      --hover-fill-color: #FFFFFF;\n",
              "      --disabled-bg-color: #3B4455;\n",
              "      --disabled-fill-color: #666;\n",
              "  }\n",
              "\n",
              "  .colab-df-quickchart {\n",
              "    background-color: var(--bg-color);\n",
              "    border: none;\n",
              "    border-radius: 50%;\n",
              "    cursor: pointer;\n",
              "    display: none;\n",
              "    fill: var(--fill-color);\n",
              "    height: 32px;\n",
              "    padding: 0;\n",
              "    width: 32px;\n",
              "  }\n",
              "\n",
              "  .colab-df-quickchart:hover {\n",
              "    background-color: var(--hover-bg-color);\n",
              "    box-shadow: 0 1px 2px rgba(60, 64, 67, 0.3), 0 1px 3px 1px rgba(60, 64, 67, 0.15);\n",
              "    fill: var(--button-hover-fill-color);\n",
              "  }\n",
              "\n",
              "  .colab-df-quickchart-complete:disabled,\n",
              "  .colab-df-quickchart-complete:disabled:hover {\n",
              "    background-color: var(--disabled-bg-color);\n",
              "    fill: var(--disabled-fill-color);\n",
              "    box-shadow: none;\n",
              "  }\n",
              "\n",
              "  .colab-df-spinner {\n",
              "    border: 2px solid var(--fill-color);\n",
              "    border-color: transparent;\n",
              "    border-bottom-color: var(--fill-color);\n",
              "    animation:\n",
              "      spin 1s steps(1) infinite;\n",
              "  }\n",
              "\n",
              "  @keyframes spin {\n",
              "    0% {\n",
              "      border-color: transparent;\n",
              "      border-bottom-color: var(--fill-color);\n",
              "      border-left-color: var(--fill-color);\n",
              "    }\n",
              "    20% {\n",
              "      border-color: transparent;\n",
              "      border-left-color: var(--fill-color);\n",
              "      border-top-color: var(--fill-color);\n",
              "    }\n",
              "    30% {\n",
              "      border-color: transparent;\n",
              "      border-left-color: var(--fill-color);\n",
              "      border-top-color: var(--fill-color);\n",
              "      border-right-color: var(--fill-color);\n",
              "    }\n",
              "    40% {\n",
              "      border-color: transparent;\n",
              "      border-right-color: var(--fill-color);\n",
              "      border-top-color: var(--fill-color);\n",
              "    }\n",
              "    60% {\n",
              "      border-color: transparent;\n",
              "      border-right-color: var(--fill-color);\n",
              "    }\n",
              "    80% {\n",
              "      border-color: transparent;\n",
              "      border-right-color: var(--fill-color);\n",
              "      border-bottom-color: var(--fill-color);\n",
              "    }\n",
              "    90% {\n",
              "      border-color: transparent;\n",
              "      border-bottom-color: var(--fill-color);\n",
              "    }\n",
              "  }\n",
              "</style>\n",
              "\n",
              "  <script>\n",
              "    async function quickchart(key) {\n",
              "      const quickchartButtonEl =\n",
              "        document.querySelector('#' + key + ' button');\n",
              "      quickchartButtonEl.disabled = true;  // To prevent multiple clicks.\n",
              "      quickchartButtonEl.classList.add('colab-df-spinner');\n",
              "      try {\n",
              "        const charts = await google.colab.kernel.invokeFunction(\n",
              "            'suggestCharts', [key], {});\n",
              "      } catch (error) {\n",
              "        console.error('Error during call to suggestCharts:', error);\n",
              "      }\n",
              "      quickchartButtonEl.classList.remove('colab-df-spinner');\n",
              "      quickchartButtonEl.classList.add('colab-df-quickchart-complete');\n",
              "    }\n",
              "    (() => {\n",
              "      let quickchartButtonEl =\n",
              "        document.querySelector('#df-3ea948b0-4cc0-4617-98ff-c2a9112ced60 button');\n",
              "      quickchartButtonEl.style.display =\n",
              "        google.colab.kernel.accessAllowed ? 'block' : 'none';\n",
              "    })();\n",
              "  </script>\n",
              "</div>\n",
              "\n",
              "    </div>\n",
              "  </div>\n"
            ],
            "application/vnd.google.colaboratory.intrinsic+json": {
              "type": "dataframe",
              "summary": "{\n  \"name\": \"df[['review', 'cleaned_review']]\",\n  \"rows\": 5,\n  \"fields\": [\n    {\n      \"column\": \"review\",\n      \"properties\": {\n        \"dtype\": \"string\",\n        \"num_unique_values\": 5,\n        \"samples\": [\n          \"\\u0645\\u0627\\u062a\\u062d\\u0645\\u0644\\u062a \\u0627\\u0628\\u062f\\u062f\\u062f\\u062f\\u062f\\u0627 \\u0648\\u0646\\u0627 \\u062f\\u0641\\u0639\\u062a \\u0641\\u0644\\u0648\\u0633 \\ud83e\\udd14\\ud83d\\ude15\",\n          \"\\u062a\\u0628\\u064a\\u0646 \\u0645 \\u0644\\u064a \\u064a \\u062a\\u0645 \\u0644 \\u064a\\u0628\",\n          \"\\u0627\\u062a\\u0645\\u0646\\u0649 \\u0645\\u0646\\u0643\\u0645 \\u0639\\u0645\\u0644 \\u062e\\u064a\\u0627\\u0631 \\u0644\\u062a\\u0641\\u0636\\u064a\\u0644 \\u0627\\u0644\\u0645\\u0633\\u0644\\u0633\\u0644 \\u0628\\u0627\\u0644\\u0643\\u0627\\u0645\\u0644 \\u0639\\u0648\\u0636\\u0627\\u064b \\u0639\\u0646 \\u062a\\u0641\\u0636\\u064a\\u0644 \\u0627\\u0644\\u062d\\u0644\\u0642\\u0627\\u062a \\u0641\\u0642\\u0637\\n\\u0648\\u0634\\u0643\\u0631\\u0627\\u064b\"\n        ],\n        \"semantic_type\": \"\",\n        \"description\": \"\"\n      }\n    },\n    {\n      \"column\": \"cleaned_review\",\n      \"properties\": {\n        \"dtype\": \"string\",\n        \"num_unique_values\": 5,\n        \"samples\": [\n          \"\\u0645\\u0627\\u062a\\u062d\\u0645\\u0644\\u062a \\u0627\\u0628\\u062f\\u062f\\u0627 \\u0648\\u0646\\u0627 \\u062f\\u0641\\u0639\\u062a \\u0641\\u0644\\u0648\\u0633\",\n          \"\\u062a\\u0628\\u064a\\u0646 \\u0645 \\u0644\\u064a \\u064a \\u062a\\u0645 \\u0644 \\u064a\\u0628\",\n          \"\\u0627\\u062a\\u0645\\u0646\\u064a \\u0645\\u0646\\u0643\\u0645 \\u0639\\u0645\\u0644 \\u062e\\u064a\\u0627\\u0631 \\u0644\\u062a\\u0641\\u0636\\u064a\\u0644 \\u0627\\u0644\\u0645\\u0633\\u0644\\u0633\\u0644 \\u0628\\u0627\\u0644\\u0643\\u0627\\u0645\\u0644 \\u0639\\u0648\\u0636\\u0627 \\u0639\\u0646 \\u062a\\u0641\\u0636\\u064a\\u0644 \\u0627\\u0644\\u062d\\u0644\\u0642\\u0627\\u062a \\u0641\\u0642\\u0637 \\u0648\\u0634\\u0643\\u0631\\u0627\"\n        ],\n        \"semantic_type\": \"\",\n        \"description\": \"\"\n      }\n    }\n  ]\n}"
            }
          },
          "metadata": {},
          "execution_count": 52
        }
      ],
      "source": [
        "def preprocess_arabic(text):\n",
        "    text = str(text)\n",
        "    # Normalize Arabic characters\n",
        "    text = re.sub(\"[إأآا]\", \"ا\", text)\n",
        "    text = re.sub(\"ى\", \"ي\", text)\n",
        "    text = re.sub(\"ؤ\", \"و\", text)\n",
        "    text = re.sub(\"ئ\", \"ي\", text)\n",
        "    text = re.sub(\"ة\", \"ه\", text)\n",
        "    text = re.sub(\"گ\", \"ك\", text)\n",
        "\n",
        "    # Remove diacritics\n",
        "    text = re.sub(r'[\\u064B-\\u0652]', '', text)\n",
        "\n",
        "    # Remove repeated characters\n",
        "    text = re.sub(r'(.)\\1+', r'\\1\\1', text) # kept 2 since some arabic words actually have two repeating letters\n",
        "\n",
        "    # Remove non-Arabic letters and digits\n",
        "    text = re.sub(r'[^\\u0600-\\u06FF\\s]', '', text)\n",
        "\n",
        "    # Remove extra spaces\n",
        "    text = re.sub(r'\\s+', ' ', text).strip()\n",
        "\n",
        "    return text\n",
        "\n",
        "# Apply preprocessing\n",
        "df['cleaned_review'] = df['review'].apply(preprocess_arabic)\n",
        "df[['review', 'cleaned_review']].head()"
      ]
    },
    {
      "cell_type": "markdown",
      "id": "2zP5s5zTF7b4",
      "metadata": {
        "id": "2zP5s5zTF7b4"
      },
      "source": [
        "#### B.4 Label encoding"
      ]
    },
    {
      "cell_type": "code",
      "execution_count": 53,
      "id": "HevKFX6YGBdx",
      "metadata": {
        "colab": {
          "base_uri": "https://localhost:8080/"
        },
        "id": "HevKFX6YGBdx",
        "outputId": "b473e52e-a4fe-4963-f5af-1733122835cb"
      },
      "outputs": [
        {
          "output_type": "stream",
          "name": "stdout",
          "text": [
            "Label Mapping: {'bug_report': np.int64(0), 'improvement_request': np.int64(1), 'others': np.int64(2), 'rating': np.int64(3)}\n"
          ]
        }
      ],
      "source": [
        "label_encoder = LabelEncoder()\n",
        "df['label_encoded'] = label_encoder.fit_transform(df['label'])\n",
        "\n",
        "# For reference\n",
        "label_map = dict(zip(label_encoder.classes_, label_encoder.transform(label_encoder.classes_)))\n",
        "print(\"Label Mapping:\", label_map)"
      ]
    },
    {
      "cell_type": "markdown",
      "id": "5pxM88bUGmCH",
      "metadata": {
        "id": "5pxM88bUGmCH"
      },
      "source": [
        "#### B.5 Data splitting"
      ]
    },
    {
      "cell_type": "code",
      "execution_count": 54,
      "id": "Xv3PYf7JGqpM",
      "metadata": {
        "colab": {
          "base_uri": "https://localhost:8080/"
        },
        "id": "Xv3PYf7JGqpM",
        "outputId": "fa179725-a80f-4dd1-cae8-bd4c13b5f502"
      },
      "outputs": [
        {
          "output_type": "stream",
          "name": "stdout",
          "text": [
            "Training Samples: 1972\n",
            "Validation Samples: 348\n",
            "Testing Samples: 580\n"
          ]
        }
      ],
      "source": [
        "# First: Train-Test Split (80-20)\n",
        "train_df, test_df = train_test_split(df, test_size=0.2, random_state=SEED, stratify=df['label_encoded'])\n",
        "\n",
        "# Second: Validation Split from Train (15% of train)\n",
        "train_df, val_df = train_test_split(train_df, test_size=0.15, random_state=SEED, stratify=train_df['label_encoded'])\n",
        "\n",
        "# Show sizes\n",
        "print(f\"Training Samples: {len(train_df)}\")\n",
        "print(f\"Validation Samples: {len(val_df)}\")\n",
        "print(f\"Testing Samples: {len(test_df)}\")"
      ]
    },
    {
      "cell_type": "markdown",
      "id": "bkVNz50AI-K9",
      "metadata": {
        "id": "bkVNz50AI-K9"
      },
      "source": [
        "#### B.6 Tokeniation and padding"
      ]
    },
    {
      "cell_type": "code",
      "execution_count": 55,
      "id": "ZgZVlCcVI3JF",
      "metadata": {
        "id": "ZgZVlCcVI3JF"
      },
      "outputs": [],
      "source": [
        "# Set parameters\n",
        "MAX_NUM_WORDS = 10000  # top N words to keep\n",
        "MAX_SEQUENCE_LENGTH = 120  # max words per review\n",
        "\n",
        "# Tokenize\n",
        "tokenizer = Tokenizer(num_words=MAX_NUM_WORDS, oov_token=\"<OOV>\")\n",
        "tokenizer.fit_on_texts(train_df['cleaned_review'])\n",
        "\n",
        "# Convert to sequences\n",
        "X_train_seq = tokenizer.texts_to_sequences(train_df['cleaned_review'])\n",
        "X_val_seq = tokenizer.texts_to_sequences(val_df['cleaned_review'])\n",
        "X_test_seq = tokenizer.texts_to_sequences(test_df['cleaned_review'])\n",
        "\n",
        "# Pad sequences\n",
        "X_train = pad_sequences(X_train_seq, maxlen=MAX_SEQUENCE_LENGTH, padding='post')\n",
        "X_val = pad_sequences(X_val_seq, maxlen=MAX_SEQUENCE_LENGTH, padding='post')\n",
        "X_test = pad_sequences(X_test_seq, maxlen=MAX_SEQUENCE_LENGTH, padding='post')"
      ]
    },
    {
      "cell_type": "code",
      "execution_count": 56,
      "id": "kcxlJSKJJIfU",
      "metadata": {
        "id": "kcxlJSKJJIfU"
      },
      "outputs": [],
      "source": [
        "# One-hot encode labels\n",
        "y_train = to_categorical(train_df['label_encoded'])\n",
        "y_val = to_categorical(val_df['label_encoded'])\n",
        "y_test = to_categorical(test_df['label_encoded'])"
      ]
    },
    {
      "cell_type": "code",
      "execution_count": 57,
      "id": "B_ERvMu3JOPh",
      "metadata": {
        "colab": {
          "base_uri": "https://localhost:8080/"
        },
        "id": "B_ERvMu3JOPh",
        "outputId": "3bd13fb0-4158-441f-a824-86164a2fe552"
      },
      "outputs": [
        {
          "output_type": "stream",
          "name": "stdout",
          "text": [
            "Vocabulary size: 8319\n"
          ]
        }
      ],
      "source": [
        "word_index = tokenizer.word_index\n",
        "print(f\"Vocabulary size: {len(word_index)}\")"
      ]
    },
    {
      "cell_type": "markdown",
      "id": "PHVwp1BAN4tm",
      "metadata": {
        "id": "PHVwp1BAN4tm"
      },
      "source": [
        "#### B.7 Building LSTM model"
      ]
    },
    {
      "cell_type": "code",
      "source": [
        "def plot_history(histories, labels, metric='accuracy'):\n",
        "    plt.figure(figsize=(8, 6))\n",
        "    for history, label in zip(histories, labels):\n",
        "        plt.plot(history.history[metric], label=f\"{label} - train\")\n",
        "        plt.plot(history.history[f\"val_{metric}\"], linestyle='--', label=f\"{label} - val\")\n",
        "    plt.title(f\"{metric.capitalize()} Over Epochs\")\n",
        "    plt.xlabel(\"Epoch\")\n",
        "    plt.ylabel(metric.capitalize())\n",
        "    plt.legend()\n",
        "    plt.grid()\n",
        "    plt.show()"
      ],
      "metadata": {
        "id": "FmmTIYbWYFKj"
      },
      "id": "FmmTIYbWYFKj",
      "execution_count": 58,
      "outputs": []
    },
    {
      "cell_type": "markdown",
      "id": "ZUoxuPpNO0cu",
      "metadata": {
        "id": "ZUoxuPpNO0cu"
      },
      "source": [
        "##### B.7.1 LSTM with random embedding"
      ]
    },
    {
      "cell_type": "code",
      "execution_count": 59,
      "id": "2O_zcPQ2O-QI",
      "metadata": {
        "colab": {
          "base_uri": "https://localhost:8080/",
          "height": 364
        },
        "id": "2O_zcPQ2O-QI",
        "outputId": "8eb53444-d56d-42c8-e8cd-57a5bef8bfd0"
      },
      "outputs": [
        {
          "output_type": "stream",
          "name": "stderr",
          "text": [
            "/usr/local/lib/python3.11/dist-packages/keras/src/layers/core/embedding.py:90: UserWarning: Argument `input_length` is deprecated. Just remove it.\n",
            "  warnings.warn(\n"
          ]
        },
        {
          "output_type": "display_data",
          "data": {
            "text/plain": [
              "\u001b[1mModel: \"sequential_3\"\u001b[0m\n"
            ],
            "text/html": [
              "<pre style=\"white-space:pre;overflow-x:auto;line-height:normal;font-family:Menlo,'DejaVu Sans Mono',consolas,'Courier New',monospace\"><span style=\"font-weight: bold\">Model: \"sequential_3\"</span>\n",
              "</pre>\n"
            ]
          },
          "metadata": {}
        },
        {
          "output_type": "display_data",
          "data": {
            "text/plain": [
              "┏━━━━━━━━━━━━━━━━━━━━━━━━━━━━━━━━━┳━━━━━━━━━━━━━━━━━━━━━━━━┳━━━━━━━━━━━━━━━┓\n",
              "┃\u001b[1m \u001b[0m\u001b[1mLayer (type)                   \u001b[0m\u001b[1m \u001b[0m┃\u001b[1m \u001b[0m\u001b[1mOutput Shape          \u001b[0m\u001b[1m \u001b[0m┃\u001b[1m \u001b[0m\u001b[1m      Param #\u001b[0m\u001b[1m \u001b[0m┃\n",
              "┡━━━━━━━━━━━━━━━━━━━━━━━━━━━━━━━━━╇━━━━━━━━━━━━━━━━━━━━━━━━╇━━━━━━━━━━━━━━━┩\n",
              "│ embedding_3 (\u001b[38;5;33mEmbedding\u001b[0m)         │ ?                      │   \u001b[38;5;34m0\u001b[0m (unbuilt) │\n",
              "├─────────────────────────────────┼────────────────────────┼───────────────┤\n",
              "│ lstm_3 (\u001b[38;5;33mLSTM\u001b[0m)                   │ ?                      │   \u001b[38;5;34m0\u001b[0m (unbuilt) │\n",
              "├─────────────────────────────────┼────────────────────────┼───────────────┤\n",
              "│ dropout_6 (\u001b[38;5;33mDropout\u001b[0m)             │ ?                      │             \u001b[38;5;34m0\u001b[0m │\n",
              "├─────────────────────────────────┼────────────────────────┼───────────────┤\n",
              "│ dense_6 (\u001b[38;5;33mDense\u001b[0m)                 │ ?                      │   \u001b[38;5;34m0\u001b[0m (unbuilt) │\n",
              "├─────────────────────────────────┼────────────────────────┼───────────────┤\n",
              "│ dropout_7 (\u001b[38;5;33mDropout\u001b[0m)             │ ?                      │             \u001b[38;5;34m0\u001b[0m │\n",
              "├─────────────────────────────────┼────────────────────────┼───────────────┤\n",
              "│ dense_7 (\u001b[38;5;33mDense\u001b[0m)                 │ ?                      │   \u001b[38;5;34m0\u001b[0m (unbuilt) │\n",
              "└─────────────────────────────────┴────────────────────────┴───────────────┘\n"
            ],
            "text/html": [
              "<pre style=\"white-space:pre;overflow-x:auto;line-height:normal;font-family:Menlo,'DejaVu Sans Mono',consolas,'Courier New',monospace\">┏━━━━━━━━━━━━━━━━━━━━━━━━━━━━━━━━━┳━━━━━━━━━━━━━━━━━━━━━━━━┳━━━━━━━━━━━━━━━┓\n",
              "┃<span style=\"font-weight: bold\"> Layer (type)                    </span>┃<span style=\"font-weight: bold\"> Output Shape           </span>┃<span style=\"font-weight: bold\">       Param # </span>┃\n",
              "┡━━━━━━━━━━━━━━━━━━━━━━━━━━━━━━━━━╇━━━━━━━━━━━━━━━━━━━━━━━━╇━━━━━━━━━━━━━━━┩\n",
              "│ embedding_3 (<span style=\"color: #0087ff; text-decoration-color: #0087ff\">Embedding</span>)         │ ?                      │   <span style=\"color: #00af00; text-decoration-color: #00af00\">0</span> (unbuilt) │\n",
              "├─────────────────────────────────┼────────────────────────┼───────────────┤\n",
              "│ lstm_3 (<span style=\"color: #0087ff; text-decoration-color: #0087ff\">LSTM</span>)                   │ ?                      │   <span style=\"color: #00af00; text-decoration-color: #00af00\">0</span> (unbuilt) │\n",
              "├─────────────────────────────────┼────────────────────────┼───────────────┤\n",
              "│ dropout_6 (<span style=\"color: #0087ff; text-decoration-color: #0087ff\">Dropout</span>)             │ ?                      │             <span style=\"color: #00af00; text-decoration-color: #00af00\">0</span> │\n",
              "├─────────────────────────────────┼────────────────────────┼───────────────┤\n",
              "│ dense_6 (<span style=\"color: #0087ff; text-decoration-color: #0087ff\">Dense</span>)                 │ ?                      │   <span style=\"color: #00af00; text-decoration-color: #00af00\">0</span> (unbuilt) │\n",
              "├─────────────────────────────────┼────────────────────────┼───────────────┤\n",
              "│ dropout_7 (<span style=\"color: #0087ff; text-decoration-color: #0087ff\">Dropout</span>)             │ ?                      │             <span style=\"color: #00af00; text-decoration-color: #00af00\">0</span> │\n",
              "├─────────────────────────────────┼────────────────────────┼───────────────┤\n",
              "│ dense_7 (<span style=\"color: #0087ff; text-decoration-color: #0087ff\">Dense</span>)                 │ ?                      │   <span style=\"color: #00af00; text-decoration-color: #00af00\">0</span> (unbuilt) │\n",
              "└─────────────────────────────────┴────────────────────────┴───────────────┘\n",
              "</pre>\n"
            ]
          },
          "metadata": {}
        },
        {
          "output_type": "display_data",
          "data": {
            "text/plain": [
              "\u001b[1m Total params: \u001b[0m\u001b[38;5;34m0\u001b[0m (0.00 B)\n"
            ],
            "text/html": [
              "<pre style=\"white-space:pre;overflow-x:auto;line-height:normal;font-family:Menlo,'DejaVu Sans Mono',consolas,'Courier New',monospace\"><span style=\"font-weight: bold\"> Total params: </span><span style=\"color: #00af00; text-decoration-color: #00af00\">0</span> (0.00 B)\n",
              "</pre>\n"
            ]
          },
          "metadata": {}
        },
        {
          "output_type": "display_data",
          "data": {
            "text/plain": [
              "\u001b[1m Trainable params: \u001b[0m\u001b[38;5;34m0\u001b[0m (0.00 B)\n"
            ],
            "text/html": [
              "<pre style=\"white-space:pre;overflow-x:auto;line-height:normal;font-family:Menlo,'DejaVu Sans Mono',consolas,'Courier New',monospace\"><span style=\"font-weight: bold\"> Trainable params: </span><span style=\"color: #00af00; text-decoration-color: #00af00\">0</span> (0.00 B)\n",
              "</pre>\n"
            ]
          },
          "metadata": {}
        },
        {
          "output_type": "display_data",
          "data": {
            "text/plain": [
              "\u001b[1m Non-trainable params: \u001b[0m\u001b[38;5;34m0\u001b[0m (0.00 B)\n"
            ],
            "text/html": [
              "<pre style=\"white-space:pre;overflow-x:auto;line-height:normal;font-family:Menlo,'DejaVu Sans Mono',consolas,'Courier New',monospace\"><span style=\"font-weight: bold\"> Non-trainable params: </span><span style=\"color: #00af00; text-decoration-color: #00af00\">0</span> (0.00 B)\n",
              "</pre>\n"
            ]
          },
          "metadata": {}
        }
      ],
      "source": [
        "# Parameters\n",
        "EMBEDDING_DIM_RANDOM = 100  # can be smaller\n",
        "NUM_CLASSES = y_train.shape[1]\n",
        "\n",
        "model_random = Sequential([\n",
        "    Embedding(input_dim=MAX_NUM_WORDS,\n",
        "              output_dim=EMBEDDING_DIM_RANDOM,\n",
        "              input_length=MAX_SEQUENCE_LENGTH,\n",
        "              trainable=True),  # learn embeddings during training\n",
        "    LSTM(128),\n",
        "    Dropout(0.3),\n",
        "    Dense(64, activation='relu'),\n",
        "    Dropout(0.2),\n",
        "    Dense(NUM_CLASSES, activation='softmax')\n",
        "])\n",
        "\n",
        "model_random.compile(loss='categorical_crossentropy', optimizer='adam', metrics=['accuracy'])\n",
        "model_random.summary()"
      ]
    },
    {
      "cell_type": "markdown",
      "id": "QZNxfbskO-pc",
      "metadata": {
        "id": "QZNxfbskO-pc"
      },
      "source": [
        "##### B.7.2 LSTM with pretrained embedding"
      ]
    },
    {
      "cell_type": "code",
      "source": [
        "# Load pretrained FastText embeddings\n",
        "embedding_index = {}\n",
        "with open(\"cc.ar.300.vec\", encoding='utf-8') as f:\n",
        "    next(f)  # skip header\n",
        "    for line in f:\n",
        "        values = line.rstrip().split()\n",
        "        word = values[0]\n",
        "        coefs = np.asarray(values[1:], dtype='float32')\n",
        "        embedding_index[word] = coefs\n",
        "\n",
        "print(f\"Loaded {len(embedding_index)} word vectors.\")\n",
        "\n",
        "# Build embedding matrix\n",
        "EMBEDDING_DIM_PRETRAINED = 300\n",
        "embedding_matrix = np.zeros((MAX_NUM_WORDS, EMBEDDING_DIM_PRETRAINED))\n",
        "\n",
        "for word, i in tokenizer.word_index.items():\n",
        "    if i < MAX_NUM_WORDS:\n",
        "        embedding_vector = embedding_index.get(word)\n",
        "        if embedding_vector is not None:\n",
        "            embedding_matrix[i] = embedding_vector"
      ],
      "metadata": {
        "id": "Hh6uCsD-aGWC"
      },
      "id": "Hh6uCsD-aGWC",
      "execution_count": null,
      "outputs": []
    },
    {
      "cell_type": "code",
      "source": [
        "EMBEDDING_DIM_PRETRAINED = 300\n",
        "embedding_matrix = np.load('embedding_matrix.npy')"
      ],
      "metadata": {
        "id": "AfqemQ-XaIqR"
      },
      "id": "AfqemQ-XaIqR",
      "execution_count": 60,
      "outputs": []
    },
    {
      "cell_type": "code",
      "execution_count": 61,
      "id": "bJeHmfP5N4LY",
      "metadata": {
        "colab": {
          "base_uri": "https://localhost:8080/",
          "height": 328
        },
        "id": "bJeHmfP5N4LY",
        "outputId": "70c64f68-14b1-42de-a74e-44a476638772"
      },
      "outputs": [
        {
          "output_type": "display_data",
          "data": {
            "text/plain": [
              "\u001b[1mModel: \"sequential_4\"\u001b[0m\n"
            ],
            "text/html": [
              "<pre style=\"white-space:pre;overflow-x:auto;line-height:normal;font-family:Menlo,'DejaVu Sans Mono',consolas,'Courier New',monospace\"><span style=\"font-weight: bold\">Model: \"sequential_4\"</span>\n",
              "</pre>\n"
            ]
          },
          "metadata": {}
        },
        {
          "output_type": "display_data",
          "data": {
            "text/plain": [
              "┏━━━━━━━━━━━━━━━━━━━━━━━━━━━━━━━━━┳━━━━━━━━━━━━━━━━━━━━━━━━┳━━━━━━━━━━━━━━━┓\n",
              "┃\u001b[1m \u001b[0m\u001b[1mLayer (type)                   \u001b[0m\u001b[1m \u001b[0m┃\u001b[1m \u001b[0m\u001b[1mOutput Shape          \u001b[0m\u001b[1m \u001b[0m┃\u001b[1m \u001b[0m\u001b[1m      Param #\u001b[0m\u001b[1m \u001b[0m┃\n",
              "┡━━━━━━━━━━━━━━━━━━━━━━━━━━━━━━━━━╇━━━━━━━━━━━━━━━━━━━━━━━━╇━━━━━━━━━━━━━━━┩\n",
              "│ embedding_4 (\u001b[38;5;33mEmbedding\u001b[0m)         │ ?                      │     \u001b[38;5;34m3,000,000\u001b[0m │\n",
              "├─────────────────────────────────┼────────────────────────┼───────────────┤\n",
              "│ lstm_4 (\u001b[38;5;33mLSTM\u001b[0m)                   │ ?                      │   \u001b[38;5;34m0\u001b[0m (unbuilt) │\n",
              "├─────────────────────────────────┼────────────────────────┼───────────────┤\n",
              "│ dropout_8 (\u001b[38;5;33mDropout\u001b[0m)             │ ?                      │             \u001b[38;5;34m0\u001b[0m │\n",
              "├─────────────────────────────────┼────────────────────────┼───────────────┤\n",
              "│ dense_8 (\u001b[38;5;33mDense\u001b[0m)                 │ ?                      │   \u001b[38;5;34m0\u001b[0m (unbuilt) │\n",
              "├─────────────────────────────────┼────────────────────────┼───────────────┤\n",
              "│ dropout_9 (\u001b[38;5;33mDropout\u001b[0m)             │ ?                      │             \u001b[38;5;34m0\u001b[0m │\n",
              "├─────────────────────────────────┼────────────────────────┼───────────────┤\n",
              "│ dense_9 (\u001b[38;5;33mDense\u001b[0m)                 │ ?                      │   \u001b[38;5;34m0\u001b[0m (unbuilt) │\n",
              "└─────────────────────────────────┴────────────────────────┴───────────────┘\n"
            ],
            "text/html": [
              "<pre style=\"white-space:pre;overflow-x:auto;line-height:normal;font-family:Menlo,'DejaVu Sans Mono',consolas,'Courier New',monospace\">┏━━━━━━━━━━━━━━━━━━━━━━━━━━━━━━━━━┳━━━━━━━━━━━━━━━━━━━━━━━━┳━━━━━━━━━━━━━━━┓\n",
              "┃<span style=\"font-weight: bold\"> Layer (type)                    </span>┃<span style=\"font-weight: bold\"> Output Shape           </span>┃<span style=\"font-weight: bold\">       Param # </span>┃\n",
              "┡━━━━━━━━━━━━━━━━━━━━━━━━━━━━━━━━━╇━━━━━━━━━━━━━━━━━━━━━━━━╇━━━━━━━━━━━━━━━┩\n",
              "│ embedding_4 (<span style=\"color: #0087ff; text-decoration-color: #0087ff\">Embedding</span>)         │ ?                      │     <span style=\"color: #00af00; text-decoration-color: #00af00\">3,000,000</span> │\n",
              "├─────────────────────────────────┼────────────────────────┼───────────────┤\n",
              "│ lstm_4 (<span style=\"color: #0087ff; text-decoration-color: #0087ff\">LSTM</span>)                   │ ?                      │   <span style=\"color: #00af00; text-decoration-color: #00af00\">0</span> (unbuilt) │\n",
              "├─────────────────────────────────┼────────────────────────┼───────────────┤\n",
              "│ dropout_8 (<span style=\"color: #0087ff; text-decoration-color: #0087ff\">Dropout</span>)             │ ?                      │             <span style=\"color: #00af00; text-decoration-color: #00af00\">0</span> │\n",
              "├─────────────────────────────────┼────────────────────────┼───────────────┤\n",
              "│ dense_8 (<span style=\"color: #0087ff; text-decoration-color: #0087ff\">Dense</span>)                 │ ?                      │   <span style=\"color: #00af00; text-decoration-color: #00af00\">0</span> (unbuilt) │\n",
              "├─────────────────────────────────┼────────────────────────┼───────────────┤\n",
              "│ dropout_9 (<span style=\"color: #0087ff; text-decoration-color: #0087ff\">Dropout</span>)             │ ?                      │             <span style=\"color: #00af00; text-decoration-color: #00af00\">0</span> │\n",
              "├─────────────────────────────────┼────────────────────────┼───────────────┤\n",
              "│ dense_9 (<span style=\"color: #0087ff; text-decoration-color: #0087ff\">Dense</span>)                 │ ?                      │   <span style=\"color: #00af00; text-decoration-color: #00af00\">0</span> (unbuilt) │\n",
              "└─────────────────────────────────┴────────────────────────┴───────────────┘\n",
              "</pre>\n"
            ]
          },
          "metadata": {}
        },
        {
          "output_type": "display_data",
          "data": {
            "text/plain": [
              "\u001b[1m Total params: \u001b[0m\u001b[38;5;34m3,000,000\u001b[0m (11.44 MB)\n"
            ],
            "text/html": [
              "<pre style=\"white-space:pre;overflow-x:auto;line-height:normal;font-family:Menlo,'DejaVu Sans Mono',consolas,'Courier New',monospace\"><span style=\"font-weight: bold\"> Total params: </span><span style=\"color: #00af00; text-decoration-color: #00af00\">3,000,000</span> (11.44 MB)\n",
              "</pre>\n"
            ]
          },
          "metadata": {}
        },
        {
          "output_type": "display_data",
          "data": {
            "text/plain": [
              "\u001b[1m Trainable params: \u001b[0m\u001b[38;5;34m0\u001b[0m (0.00 B)\n"
            ],
            "text/html": [
              "<pre style=\"white-space:pre;overflow-x:auto;line-height:normal;font-family:Menlo,'DejaVu Sans Mono',consolas,'Courier New',monospace\"><span style=\"font-weight: bold\"> Trainable params: </span><span style=\"color: #00af00; text-decoration-color: #00af00\">0</span> (0.00 B)\n",
              "</pre>\n"
            ]
          },
          "metadata": {}
        },
        {
          "output_type": "display_data",
          "data": {
            "text/plain": [
              "\u001b[1m Non-trainable params: \u001b[0m\u001b[38;5;34m3,000,000\u001b[0m (11.44 MB)\n"
            ],
            "text/html": [
              "<pre style=\"white-space:pre;overflow-x:auto;line-height:normal;font-family:Menlo,'DejaVu Sans Mono',consolas,'Courier New',monospace\"><span style=\"font-weight: bold\"> Non-trainable params: </span><span style=\"color: #00af00; text-decoration-color: #00af00\">3,000,000</span> (11.44 MB)\n",
              "</pre>\n"
            ]
          },
          "metadata": {}
        }
      ],
      "source": [
        "# Model 2: Use precomputed FastText vectors\n",
        "model_pretrained = Sequential([\n",
        "    Embedding(input_dim=MAX_NUM_WORDS,\n",
        "              output_dim=EMBEDDING_DIM_PRETRAINED,\n",
        "              weights=[embedding_matrix],\n",
        "              input_length=MAX_SEQUENCE_LENGTH,\n",
        "              trainable=False),  # freeze embeddings\n",
        "    LSTM(128),\n",
        "    Dropout(0.3),\n",
        "    Dense(64, activation='relu'),\n",
        "    Dropout(0.2),\n",
        "    Dense(NUM_CLASSES, activation='softmax')\n",
        "])\n",
        "\n",
        "model_pretrained.compile(loss='categorical_crossentropy', optimizer='adam', metrics=['accuracy'])\n",
        "model_pretrained.summary()\n"
      ]
    },
    {
      "cell_type": "markdown",
      "id": "QkCGYobtPWqA",
      "metadata": {
        "id": "QkCGYobtPWqA"
      },
      "source": [
        "#### B.8 Model training"
      ]
    },
    {
      "cell_type": "code",
      "execution_count": 62,
      "id": "hQAX_fhXPjSP",
      "metadata": {
        "id": "hQAX_fhXPjSP"
      },
      "outputs": [],
      "source": [
        "EPOCHS = 20\n",
        "BATCH_SIZE = 32"
      ]
    },
    {
      "cell_type": "code",
      "execution_count": 63,
      "id": "xTkgFBHZPlb1",
      "metadata": {
        "colab": {
          "base_uri": "https://localhost:8080/"
        },
        "id": "xTkgFBHZPlb1",
        "outputId": "3c74cb74-76b6-41ec-adbb-fe5ca331e6de"
      },
      "outputs": [
        {
          "output_type": "stream",
          "name": "stdout",
          "text": [
            "Training Model with Random Embeddings...\n",
            "\n",
            "Epoch 1/20\n",
            "\u001b[1m62/62\u001b[0m \u001b[32m━━━━━━━━━━━━━━━━━━━━\u001b[0m\u001b[37m\u001b[0m \u001b[1m18s\u001b[0m 218ms/step - accuracy: 0.3478 - loss: 1.2993 - val_accuracy: 0.4023 - val_loss: 1.2493\n",
            "Epoch 2/20\n",
            "\u001b[1m62/62\u001b[0m \u001b[32m━━━━━━━━━━━━━━━━━━━━\u001b[0m\u001b[37m\u001b[0m \u001b[1m20s\u001b[0m 216ms/step - accuracy: 0.4057 - loss: 1.2464 - val_accuracy: 0.4023 - val_loss: 1.2438\n",
            "Epoch 3/20\n",
            "\u001b[1m62/62\u001b[0m \u001b[32m━━━━━━━━━━━━━━━━━━━━\u001b[0m\u001b[37m\u001b[0m \u001b[1m13s\u001b[0m 215ms/step - accuracy: 0.3898 - loss: 1.2543 - val_accuracy: 0.4023 - val_loss: 1.2410\n",
            "Epoch 4/20\n",
            "\u001b[1m62/62\u001b[0m \u001b[32m━━━━━━━━━━━━━━━━━━━━\u001b[0m\u001b[37m\u001b[0m \u001b[1m20s\u001b[0m 209ms/step - accuracy: 0.3774 - loss: 1.2470 - val_accuracy: 0.4023 - val_loss: 1.2453\n",
            "Epoch 5/20\n",
            "\u001b[1m62/62\u001b[0m \u001b[32m━━━━━━━━━━━━━━━━━━━━\u001b[0m\u001b[37m\u001b[0m \u001b[1m21s\u001b[0m 221ms/step - accuracy: 0.4065 - loss: 1.2413 - val_accuracy: 0.4023 - val_loss: 1.2413\n",
            "Epoch 6/20\n",
            "\u001b[1m62/62\u001b[0m \u001b[32m━━━━━━━━━━━━━━━━━━━━\u001b[0m\u001b[37m\u001b[0m \u001b[1m21s\u001b[0m 223ms/step - accuracy: 0.3968 - loss: 1.2437 - val_accuracy: 0.4023 - val_loss: 1.2409\n",
            "Epoch 7/20\n",
            "\u001b[1m62/62\u001b[0m \u001b[32m━━━━━━━━━━━━━━━━━━━━\u001b[0m\u001b[37m\u001b[0m \u001b[1m13s\u001b[0m 216ms/step - accuracy: 0.4104 - loss: 1.2321 - val_accuracy: 0.4023 - val_loss: 1.2433\n",
            "Epoch 8/20\n",
            "\u001b[1m62/62\u001b[0m \u001b[32m━━━━━━━━━━━━━━━━━━━━\u001b[0m\u001b[37m\u001b[0m \u001b[1m13s\u001b[0m 204ms/step - accuracy: 0.3804 - loss: 1.2426 - val_accuracy: 0.4023 - val_loss: 1.2424\n",
            "Epoch 9/20\n",
            "\u001b[1m62/62\u001b[0m \u001b[32m━━━━━━━━━━━━━━━━━━━━\u001b[0m\u001b[37m\u001b[0m \u001b[1m13s\u001b[0m 210ms/step - accuracy: 0.3886 - loss: 1.2491 - val_accuracy: 0.4023 - val_loss: 1.2429\n",
            "Epoch 10/20\n",
            "\u001b[1m62/62\u001b[0m \u001b[32m━━━━━━━━━━━━━━━━━━━━\u001b[0m\u001b[37m\u001b[0m \u001b[1m21s\u001b[0m 215ms/step - accuracy: 0.4058 - loss: 1.2507 - val_accuracy: 0.4023 - val_loss: 1.2407\n",
            "Epoch 11/20\n",
            "\u001b[1m62/62\u001b[0m \u001b[32m━━━━━━━━━━━━━━━━━━━━\u001b[0m\u001b[37m\u001b[0m \u001b[1m21s\u001b[0m 226ms/step - accuracy: 0.4169 - loss: 1.2357 - val_accuracy: 0.4023 - val_loss: 1.2412\n",
            "Epoch 12/20\n",
            "\u001b[1m62/62\u001b[0m \u001b[32m━━━━━━━━━━━━━━━━━━━━\u001b[0m\u001b[37m\u001b[0m \u001b[1m20s\u001b[0m 216ms/step - accuracy: 0.4074 - loss: 1.2434 - val_accuracy: 0.4023 - val_loss: 1.2418\n",
            "Epoch 13/20\n",
            "\u001b[1m62/62\u001b[0m \u001b[32m━━━━━━━━━━━━━━━━━━━━\u001b[0m\u001b[37m\u001b[0m \u001b[1m13s\u001b[0m 214ms/step - accuracy: 0.3960 - loss: 1.2403 - val_accuracy: 0.4023 - val_loss: 1.2403\n",
            "Epoch 14/20\n",
            "\u001b[1m62/62\u001b[0m \u001b[32m━━━━━━━━━━━━━━━━━━━━\u001b[0m\u001b[37m\u001b[0m \u001b[1m13s\u001b[0m 217ms/step - accuracy: 0.3837 - loss: 1.2458 - val_accuracy: 0.4023 - val_loss: 1.2445\n",
            "Epoch 15/20\n",
            "\u001b[1m62/62\u001b[0m \u001b[32m━━━━━━━━━━━━━━━━━━━━\u001b[0m\u001b[37m\u001b[0m \u001b[1m20s\u001b[0m 210ms/step - accuracy: 0.3994 - loss: 1.2362 - val_accuracy: 0.4023 - val_loss: 1.2414\n",
            "Epoch 16/20\n",
            "\u001b[1m62/62\u001b[0m \u001b[32m━━━━━━━━━━━━━━━━━━━━\u001b[0m\u001b[37m\u001b[0m \u001b[1m21s\u001b[0m 228ms/step - accuracy: 0.3968 - loss: 1.2445 - val_accuracy: 0.4023 - val_loss: 1.2381\n",
            "Epoch 17/20\n",
            "\u001b[1m62/62\u001b[0m \u001b[32m━━━━━━━━━━━━━━━━━━━━\u001b[0m\u001b[37m\u001b[0m \u001b[1m20s\u001b[0m 217ms/step - accuracy: 0.3984 - loss: 1.2497 - val_accuracy: 0.4023 - val_loss: 1.2440\n",
            "Epoch 18/20\n",
            "\u001b[1m62/62\u001b[0m \u001b[32m━━━━━━━━━━━━━━━━━━━━\u001b[0m\u001b[37m\u001b[0m \u001b[1m21s\u001b[0m 219ms/step - accuracy: 0.3586 - loss: 1.2777 - val_accuracy: 0.4023 - val_loss: 1.2446\n",
            "Epoch 19/20\n",
            "\u001b[1m62/62\u001b[0m \u001b[32m━━━━━━━━━━━━━━━━━━━━\u001b[0m\u001b[37m\u001b[0m \u001b[1m21s\u001b[0m 227ms/step - accuracy: 0.4024 - loss: 1.2494 - val_accuracy: 0.4023 - val_loss: 1.2419\n",
            "Epoch 20/20\n",
            "\u001b[1m62/62\u001b[0m \u001b[32m━━━━━━━━━━━━━━━━━━━━\u001b[0m\u001b[37m\u001b[0m \u001b[1m20s\u001b[0m 220ms/step - accuracy: 0.4035 - loss: 1.2465 - val_accuracy: 0.4023 - val_loss: 1.2416\n"
          ]
        }
      ],
      "source": [
        "# Train model 1\n",
        "print(\"Training Model with Random Embeddings...\\n\")\n",
        "history_random = model_random.fit(\n",
        "    X_train, y_train,\n",
        "    validation_data=(X_val, y_val),\n",
        "    epochs=EPOCHS,\n",
        "    batch_size=BATCH_SIZE\n",
        ")"
      ]
    },
    {
      "cell_type": "code",
      "execution_count": 65,
      "id": "CxexUvS5PfiQ",
      "metadata": {
        "colab": {
          "base_uri": "https://localhost:8080/"
        },
        "id": "CxexUvS5PfiQ",
        "outputId": "a814d296-54ea-41b1-a516-4795e027ecf2"
      },
      "outputs": [
        {
          "output_type": "stream",
          "name": "stdout",
          "text": [
            "Training Model with Pretrained FastText Embeddings...\n",
            "\n",
            "Epoch 1/20\n",
            "\u001b[1m62/62\u001b[0m \u001b[32m━━━━━━━━━━━━━━━━━━━━\u001b[0m\u001b[37m\u001b[0m \u001b[1m19s\u001b[0m 241ms/step - accuracy: 0.3801 - loss: 1.3262 - val_accuracy: 0.4023 - val_loss: 1.2418\n",
            "Epoch 2/20\n",
            "\u001b[1m62/62\u001b[0m \u001b[32m━━━━━━━━━━━━━━━━━━━━\u001b[0m\u001b[37m\u001b[0m \u001b[1m20s\u001b[0m 236ms/step - accuracy: 0.3895 - loss: 1.2528 - val_accuracy: 0.4023 - val_loss: 1.2419\n",
            "Epoch 3/20\n",
            "\u001b[1m62/62\u001b[0m \u001b[32m━━━━━━━━━━━━━━━━━━━━\u001b[0m\u001b[37m\u001b[0m \u001b[1m14s\u001b[0m 232ms/step - accuracy: 0.3914 - loss: 1.2498 - val_accuracy: 0.3994 - val_loss: 1.2449\n",
            "Epoch 4/20\n",
            "\u001b[1m62/62\u001b[0m \u001b[32m━━━━━━━━━━━━━━━━━━━━\u001b[0m\u001b[37m\u001b[0m \u001b[1m14s\u001b[0m 233ms/step - accuracy: 0.4070 - loss: 1.2314 - val_accuracy: 0.4023 - val_loss: 1.2415\n",
            "Epoch 5/20\n",
            "\u001b[1m62/62\u001b[0m \u001b[32m━━━━━━━━━━━━━━━━━━━━\u001b[0m\u001b[37m\u001b[0m \u001b[1m15s\u001b[0m 238ms/step - accuracy: 0.4115 - loss: 1.2341 - val_accuracy: 0.4023 - val_loss: 1.2405\n",
            "Epoch 6/20\n",
            "\u001b[1m62/62\u001b[0m \u001b[32m━━━━━━━━━━━━━━━━━━━━\u001b[0m\u001b[37m\u001b[0m \u001b[1m15s\u001b[0m 235ms/step - accuracy: 0.4016 - loss: 1.2507 - val_accuracy: 0.4023 - val_loss: 1.2469\n",
            "Epoch 7/20\n",
            "\u001b[1m62/62\u001b[0m \u001b[32m━━━━━━━━━━━━━━━━━━━━\u001b[0m\u001b[37m\u001b[0m \u001b[1m20s\u001b[0m 229ms/step - accuracy: 0.3966 - loss: 1.2330 - val_accuracy: 0.4023 - val_loss: 1.2433\n",
            "Epoch 8/20\n",
            "\u001b[1m62/62\u001b[0m \u001b[32m━━━━━━━━━━━━━━━━━━━━\u001b[0m\u001b[37m\u001b[0m \u001b[1m21s\u001b[0m 230ms/step - accuracy: 0.3910 - loss: 1.2541 - val_accuracy: 0.4023 - val_loss: 1.2414\n",
            "Epoch 9/20\n",
            "\u001b[1m62/62\u001b[0m \u001b[32m━━━━━━━━━━━━━━━━━━━━\u001b[0m\u001b[37m\u001b[0m \u001b[1m21s\u001b[0m 241ms/step - accuracy: 0.4091 - loss: 1.2533 - val_accuracy: 0.4023 - val_loss: 1.2404\n",
            "Epoch 10/20\n",
            "\u001b[1m62/62\u001b[0m \u001b[32m━━━━━━━━━━━━━━━━━━━━\u001b[0m\u001b[37m\u001b[0m \u001b[1m15s\u001b[0m 242ms/step - accuracy: 0.3954 - loss: 1.2396 - val_accuracy: 0.4023 - val_loss: 1.2428\n",
            "Epoch 11/20\n",
            "\u001b[1m62/62\u001b[0m \u001b[32m━━━━━━━━━━━━━━━━━━━━\u001b[0m\u001b[37m\u001b[0m \u001b[1m20s\u001b[0m 227ms/step - accuracy: 0.3893 - loss: 1.2599 - val_accuracy: 0.4023 - val_loss: 1.2403\n",
            "Epoch 12/20\n",
            "\u001b[1m62/62\u001b[0m \u001b[32m━━━━━━━━━━━━━━━━━━━━\u001b[0m\u001b[37m\u001b[0m \u001b[1m14s\u001b[0m 223ms/step - accuracy: 0.4081 - loss: 1.2374 - val_accuracy: 0.4023 - val_loss: 1.2406\n",
            "Epoch 13/20\n",
            "\u001b[1m62/62\u001b[0m \u001b[32m━━━━━━━━━━━━━━━━━━━━\u001b[0m\u001b[37m\u001b[0m \u001b[1m21s\u001b[0m 230ms/step - accuracy: 0.3967 - loss: 1.2394 - val_accuracy: 0.4023 - val_loss: 1.2404\n",
            "Epoch 14/20\n",
            "\u001b[1m62/62\u001b[0m \u001b[32m━━━━━━━━━━━━━━━━━━━━\u001b[0m\u001b[37m\u001b[0m \u001b[1m21s\u001b[0m 236ms/step - accuracy: 0.3983 - loss: 1.2424 - val_accuracy: 0.4023 - val_loss: 1.2407\n",
            "Epoch 15/20\n",
            "\u001b[1m62/62\u001b[0m \u001b[32m━━━━━━━━━━━━━━━━━━━━\u001b[0m\u001b[37m\u001b[0m \u001b[1m21s\u001b[0m 238ms/step - accuracy: 0.3957 - loss: 1.2487 - val_accuracy: 0.4023 - val_loss: 1.2403\n",
            "Epoch 16/20\n",
            "\u001b[1m62/62\u001b[0m \u001b[32m━━━━━━━━━━━━━━━━━━━━\u001b[0m\u001b[37m\u001b[0m \u001b[1m20s\u001b[0m 235ms/step - accuracy: 0.3996 - loss: 1.2404 - val_accuracy: 0.4023 - val_loss: 1.2404\n",
            "Epoch 17/20\n",
            "\u001b[1m62/62\u001b[0m \u001b[32m━━━━━━━━━━━━━━━━━━━━\u001b[0m\u001b[37m\u001b[0m \u001b[1m21s\u001b[0m 241ms/step - accuracy: 0.4212 - loss: 1.2348 - val_accuracy: 0.4023 - val_loss: 1.2411\n",
            "Epoch 18/20\n",
            "\u001b[1m62/62\u001b[0m \u001b[32m━━━━━━━━━━━━━━━━━━━━\u001b[0m\u001b[37m\u001b[0m \u001b[1m15s\u001b[0m 240ms/step - accuracy: 0.3970 - loss: 1.2482 - val_accuracy: 0.4023 - val_loss: 1.2415\n",
            "Epoch 19/20\n",
            "\u001b[1m62/62\u001b[0m \u001b[32m━━━━━━━━━━━━━━━━━━━━\u001b[0m\u001b[37m\u001b[0m \u001b[1m21s\u001b[0m 241ms/step - accuracy: 0.4092 - loss: 1.2394 - val_accuracy: 0.4023 - val_loss: 1.2404\n",
            "Epoch 20/20\n",
            "\u001b[1m62/62\u001b[0m \u001b[32m━━━━━━━━━━━━━━━━━━━━\u001b[0m\u001b[37m\u001b[0m \u001b[1m15s\u001b[0m 239ms/step - accuracy: 0.3820 - loss: 1.2466 - val_accuracy: 0.4023 - val_loss: 1.2404\n"
          ]
        }
      ],
      "source": [
        "# Train model 2\n",
        "print(\"Training Model with Pretrained FastText Embeddings...\\n\")\n",
        "history_pretrained = model_pretrained.fit(\n",
        "    X_train, y_train,\n",
        "    validation_data=(X_val, y_val),\n",
        "    epochs=EPOCHS,\n",
        "    batch_size=BATCH_SIZE\n",
        ")\n"
      ]
    },
    {
      "cell_type": "code",
      "execution_count": 64,
      "id": "y3BCIXxCHrT3",
      "metadata": {
        "colab": {
          "base_uri": "https://localhost:8080/"
        },
        "id": "y3BCIXxCHrT3",
        "outputId": "3c9fafce-7a4f-4e7e-adb3-ba7eacc33ffd"
      },
      "outputs": [
        {
          "output_type": "stream",
          "name": "stdout",
          "text": [
            "Test Loss (Random Embeddings): 1.2397\n",
            "Test Accuracy (Random Embeddings): 0.4017\n",
            "\u001b[1m19/19\u001b[0m \u001b[32m━━━━━━━━━━━━━━━━━━━━\u001b[0m\u001b[37m\u001b[0m \u001b[1m2s\u001b[0m 88ms/step\n",
            "\n",
            "Multi-Class Classification Report:\n",
            "\n",
            "                     precision    recall  f1-score   support\n",
            "\n",
            "         bug_report       0.40      1.00      0.57       233\n",
            "improvement_request       0.00      0.00      0.00       119\n",
            "             others       0.00      0.00      0.00        39\n",
            "             rating       0.00      0.00      0.00       189\n",
            "\n",
            "           accuracy                           0.40       580\n",
            "          macro avg       0.10      0.25      0.14       580\n",
            "       weighted avg       0.16      0.40      0.23       580\n",
            "\n"
          ]
        }
      ],
      "source": [
        "loss_random, accuracy_random = model_random.evaluate(X_test, y_test, verbose=0)\n",
        "print(f\"Test Loss (Random Embeddings): {loss_random:.4f}\")\n",
        "print(f\"Test Accuracy (Random Embeddings): {accuracy_random:.4f}\")\n",
        "\n",
        "y_pred_probs = model_random.predict(X_test)\n",
        "y_pred = np.argmax(y_pred_probs, axis=1)\n",
        "\n",
        "y_true = np.argmax(y_test, axis=1)\n",
        "label_cols = label_encoder.classes_\n",
        "\n",
        "print(\"\\nMulti-Class Classification Report:\\n\")\n",
        "print(classification_report(y_true, y_pred, target_names=label_cols, zero_division=0))"
      ]
    },
    {
      "cell_type": "code",
      "execution_count": 66,
      "id": "EnlpU5t6HsHj",
      "metadata": {
        "colab": {
          "base_uri": "https://localhost:8080/"
        },
        "id": "EnlpU5t6HsHj",
        "outputId": "f9f4dea9-e607-4dfe-c5ec-bb3f0ead9c92"
      },
      "outputs": [
        {
          "output_type": "stream",
          "name": "stdout",
          "text": [
            "Test Loss (Pretrained Embeddings): 1.2383\n",
            "Test Accuracy (Pretrained Embeddings): 0.4017\n",
            "\u001b[1m19/19\u001b[0m \u001b[32m━━━━━━━━━━━━━━━━━━━━\u001b[0m\u001b[37m\u001b[0m \u001b[1m2s\u001b[0m 83ms/step\n",
            "\n",
            "Multi-Class Classification Report:\n",
            "\n",
            "                     precision    recall  f1-score   support\n",
            "\n",
            "         bug_report       0.40      1.00      0.57       233\n",
            "improvement_request       0.00      0.00      0.00       119\n",
            "             others       0.00      0.00      0.00        39\n",
            "             rating       0.00      0.00      0.00       189\n",
            "\n",
            "           accuracy                           0.40       580\n",
            "          macro avg       0.10      0.25      0.14       580\n",
            "       weighted avg       0.16      0.40      0.23       580\n",
            "\n"
          ]
        }
      ],
      "source": [
        "loss_pretrained, accuracy_pretrained = model_pretrained.evaluate(X_test, y_test, verbose=0)\n",
        "print(f\"Test Loss (Pretrained Embeddings): {loss_pretrained:.4f}\")\n",
        "print(f\"Test Accuracy (Pretrained Embeddings): {accuracy_pretrained:.4f}\")\n",
        "\n",
        "y_pred_probs = model_pretrained.predict(X_test)\n",
        "y_pred = np.argmax(y_pred_probs, axis=1)\n",
        "\n",
        "y_true = np.argmax(y_test, axis=1)\n",
        "label_cols = label_encoder.classes_\n",
        "\n",
        "print(\"\\nMulti-Class Classification Report:\\n\")\n",
        "print(classification_report(y_true, y_pred, target_names=label_cols, zero_division=0))"
      ]
    },
    {
      "cell_type": "code",
      "source": [
        "plot_history(\n",
        "    [history_random, history_pretrained],\n",
        "    [\"Random Embeddings\", \"Pretrained Embeddings\"],\n",
        "    metric='accuracy'\n",
        ")\n",
        "\n",
        "plot_history(\n",
        "    [history_random, history_pretrained],\n",
        "    [\"Random Embeddings\", \"Pretrained Embeddings\"],\n",
        "    metric='loss'\n",
        ")"
      ],
      "metadata": {
        "colab": {
          "base_uri": "https://localhost:8080/",
          "height": 1000
        },
        "id": "nFKCG_TlYVL7",
        "outputId": "1d115ab9-ee92-4d8c-b882-3d4d45036b21"
      },
      "id": "nFKCG_TlYVL7",
      "execution_count": 67,
      "outputs": [
        {
          "output_type": "display_data",
          "data": {
            "text/plain": [
              "<Figure size 800x600 with 1 Axes>"
            ],
            "image/png": "[encoded data removed]"
          },
          "metadata": {}
        },
        {
          "output_type": "display_data",
          "data": {
            "text/plain": [
              "<Figure size 800x600 with 1 Axes>"
            ],
            "image/png": "[encoded data removed]"
          },
          "metadata": {}
        }
      ]
    },
    {
      "cell_type": "markdown",
      "id": "T-JJzn2I3-rI",
      "metadata": {
        "id": "T-JJzn2I3-rI"
      },
      "source": [
        "#### B.9 Classification analysis and possible improvements."
      ]
    },
    {
      "cell_type": "markdown",
      "id": "VBGfxBPE_5Zv",
      "metadata": {
        "id": "VBGfxBPE_5Zv"
      },
      "source": [
        "##### B.9.1 Applying oversampling"
      ]
    },
    {
      "cell_type": "code",
      "execution_count": 68,
      "id": "d8bsAY6T4PWX",
      "metadata": {
        "colab": {
          "base_uri": "https://localhost:8080/"
        },
        "id": "d8bsAY6T4PWX",
        "outputId": "74535dc1-4692-40db-f8d6-397f28540a38"
      },
      "outputs": [
        {
          "output_type": "stream",
          "name": "stdout",
          "text": [
            "Balanced class counts:\n",
            "label_encoded\n",
            "2    791\n",
            "1    791\n",
            "3    791\n",
            "0    791\n",
            "Name: count, dtype: int64\n"
          ]
        }
      ],
      "source": [
        "# Combine features and labels\n",
        "train_df_combined = train_df[['cleaned_review', 'label_encoded']]\n",
        "\n",
        "# Separate by class\n",
        "classes = train_df_combined['label_encoded'].unique()\n",
        "class_dfs = [train_df_combined[train_df_combined['label_encoded'] == c] for c in classes]\n",
        "\n",
        "# Find the class with max samples\n",
        "max_len = max([len(df) for df in class_dfs])\n",
        "\n",
        "# Oversample minority classes\n",
        "resampled_dfs = [\n",
        "    resample(df, replace=True, n_samples=max_len, random_state=SEED)\n",
        "    if len(df) < max_len else df\n",
        "    for df in class_dfs\n",
        "]\n",
        "\n",
        "# Concatenate back\n",
        "balanced_train_df = pd.concat(resampled_dfs).sample(frac=1, random_state=SEED)  # shuffle\n",
        "\n",
        "print(\"Balanced class counts:\")\n",
        "print(balanced_train_df['label_encoded'].value_counts())"
      ]
    },
    {
      "cell_type": "code",
      "execution_count": 69,
      "id": "io1FljE46UvX",
      "metadata": {
        "id": "io1FljE46UvX"
      },
      "outputs": [],
      "source": [
        "# Tokenize balanced data\n",
        "X_train_balanced_seq = tokenizer.texts_to_sequences(balanced_train_df['cleaned_review'])\n",
        "X_train_balanced = pad_sequences(X_train_balanced_seq, maxlen=MAX_SEQUENCE_LENGTH, padding='post')\n",
        "\n",
        "# Labels\n",
        "y_train_balanced = to_categorical(balanced_train_df['label_encoded'])"
      ]
    },
    {
      "cell_type": "markdown",
      "id": "zArf6ztRADcD",
      "metadata": {
        "id": "zArf6ztRADcD"
      },
      "source": [
        "##### B.9.2 Modifying the model to use (Oversampled data, BiLSTM, Callback functions)"
      ]
    },
    {
      "cell_type": "code",
      "execution_count": 70,
      "id": "cyOm5eav-cjS",
      "metadata": {
        "id": "cyOm5eav-cjS"
      },
      "outputs": [],
      "source": [
        "callbacks = [\n",
        "    EarlyStopping(monitor='val_loss', patience=3, restore_best_weights=True, verbose=1),\n",
        "    ReduceLROnPlateau(monitor='val_loss', factor=0.5, patience=2, verbose=1)\n",
        "]"
      ]
    },
    {
      "cell_type": "code",
      "execution_count": 71,
      "id": "M8zPC2Fn6PzT",
      "metadata": {
        "colab": {
          "base_uri": "https://localhost:8080/",
          "height": 364
        },
        "id": "M8zPC2Fn6PzT",
        "outputId": "f809434d-493e-4b1a-8430-d14d53e45f2b"
      },
      "outputs": [
        {
          "output_type": "stream",
          "name": "stderr",
          "text": [
            "/usr/local/lib/python3.11/dist-packages/keras/src/layers/core/embedding.py:90: UserWarning: Argument `input_length` is deprecated. Just remove it.\n",
            "  warnings.warn(\n"
          ]
        },
        {
          "output_type": "display_data",
          "data": {
            "text/plain": [
              "\u001b[1mModel: \"sequential_5\"\u001b[0m\n"
            ],
            "text/html": [
              "<pre style=\"white-space:pre;overflow-x:auto;line-height:normal;font-family:Menlo,'DejaVu Sans Mono',consolas,'Courier New',monospace\"><span style=\"font-weight: bold\">Model: \"sequential_5\"</span>\n",
              "</pre>\n"
            ]
          },
          "metadata": {}
        },
        {
          "output_type": "display_data",
          "data": {
            "text/plain": [
              "┏━━━━━━━━━━━━━━━━━━━━━━━━━━━━━━━━━┳━━━━━━━━━━━━━━━━━━━━━━━━┳━━━━━━━━━━━━━━━┓\n",
              "┃\u001b[1m \u001b[0m\u001b[1mLayer (type)                   \u001b[0m\u001b[1m \u001b[0m┃\u001b[1m \u001b[0m\u001b[1mOutput Shape          \u001b[0m\u001b[1m \u001b[0m┃\u001b[1m \u001b[0m\u001b[1m      Param #\u001b[0m\u001b[1m \u001b[0m┃\n",
              "┡━━━━━━━━━━━━━━━━━━━━━━━━━━━━━━━━━╇━━━━━━━━━━━━━━━━━━━━━━━━╇━━━━━━━━━━━━━━━┩\n",
              "│ embedding_5 (\u001b[38;5;33mEmbedding\u001b[0m)         │ ?                      │   \u001b[38;5;34m0\u001b[0m (unbuilt) │\n",
              "├─────────────────────────────────┼────────────────────────┼───────────────┤\n",
              "│ bidirectional_1 (\u001b[38;5;33mBidirectional\u001b[0m) │ ?                      │   \u001b[38;5;34m0\u001b[0m (unbuilt) │\n",
              "├─────────────────────────────────┼────────────────────────┼───────────────┤\n",
              "│ dropout_10 (\u001b[38;5;33mDropout\u001b[0m)            │ ?                      │             \u001b[38;5;34m0\u001b[0m │\n",
              "├─────────────────────────────────┼────────────────────────┼───────────────┤\n",
              "│ dense_10 (\u001b[38;5;33mDense\u001b[0m)                │ ?                      │   \u001b[38;5;34m0\u001b[0m (unbuilt) │\n",
              "├─────────────────────────────────┼────────────────────────┼───────────────┤\n",
              "│ dropout_11 (\u001b[38;5;33mDropout\u001b[0m)            │ ?                      │             \u001b[38;5;34m0\u001b[0m │\n",
              "├─────────────────────────────────┼────────────────────────┼───────────────┤\n",
              "│ dense_11 (\u001b[38;5;33mDense\u001b[0m)                │ ?                      │   \u001b[38;5;34m0\u001b[0m (unbuilt) │\n",
              "└─────────────────────────────────┴────────────────────────┴───────────────┘\n"
            ],
            "text/html": [
              "<pre style=\"white-space:pre;overflow-x:auto;line-height:normal;font-family:Menlo,'DejaVu Sans Mono',consolas,'Courier New',monospace\">┏━━━━━━━━━━━━━━━━━━━━━━━━━━━━━━━━━┳━━━━━━━━━━━━━━━━━━━━━━━━┳━━━━━━━━━━━━━━━┓\n",
              "┃<span style=\"font-weight: bold\"> Layer (type)                    </span>┃<span style=\"font-weight: bold\"> Output Shape           </span>┃<span style=\"font-weight: bold\">       Param # </span>┃\n",
              "┡━━━━━━━━━━━━━━━━━━━━━━━━━━━━━━━━━╇━━━━━━━━━━━━━━━━━━━━━━━━╇━━━━━━━━━━━━━━━┩\n",
              "│ embedding_5 (<span style=\"color: #0087ff; text-decoration-color: #0087ff\">Embedding</span>)         │ ?                      │   <span style=\"color: #00af00; text-decoration-color: #00af00\">0</span> (unbuilt) │\n",
              "├─────────────────────────────────┼────────────────────────┼───────────────┤\n",
              "│ bidirectional_1 (<span style=\"color: #0087ff; text-decoration-color: #0087ff\">Bidirectional</span>) │ ?                      │   <span style=\"color: #00af00; text-decoration-color: #00af00\">0</span> (unbuilt) │\n",
              "├─────────────────────────────────┼────────────────────────┼───────────────┤\n",
              "│ dropout_10 (<span style=\"color: #0087ff; text-decoration-color: #0087ff\">Dropout</span>)            │ ?                      │             <span style=\"color: #00af00; text-decoration-color: #00af00\">0</span> │\n",
              "├─────────────────────────────────┼────────────────────────┼───────────────┤\n",
              "│ dense_10 (<span style=\"color: #0087ff; text-decoration-color: #0087ff\">Dense</span>)                │ ?                      │   <span style=\"color: #00af00; text-decoration-color: #00af00\">0</span> (unbuilt) │\n",
              "├─────────────────────────────────┼────────────────────────┼───────────────┤\n",
              "│ dropout_11 (<span style=\"color: #0087ff; text-decoration-color: #0087ff\">Dropout</span>)            │ ?                      │             <span style=\"color: #00af00; text-decoration-color: #00af00\">0</span> │\n",
              "├─────────────────────────────────┼────────────────────────┼───────────────┤\n",
              "│ dense_11 (<span style=\"color: #0087ff; text-decoration-color: #0087ff\">Dense</span>)                │ ?                      │   <span style=\"color: #00af00; text-decoration-color: #00af00\">0</span> (unbuilt) │\n",
              "└─────────────────────────────────┴────────────────────────┴───────────────┘\n",
              "</pre>\n"
            ]
          },
          "metadata": {}
        },
        {
          "output_type": "display_data",
          "data": {
            "text/plain": [
              "\u001b[1m Total params: \u001b[0m\u001b[38;5;34m0\u001b[0m (0.00 B)\n"
            ],
            "text/html": [
              "<pre style=\"white-space:pre;overflow-x:auto;line-height:normal;font-family:Menlo,'DejaVu Sans Mono',consolas,'Courier New',monospace\"><span style=\"font-weight: bold\"> Total params: </span><span style=\"color: #00af00; text-decoration-color: #00af00\">0</span> (0.00 B)\n",
              "</pre>\n"
            ]
          },
          "metadata": {}
        },
        {
          "output_type": "display_data",
          "data": {
            "text/plain": [
              "\u001b[1m Trainable params: \u001b[0m\u001b[38;5;34m0\u001b[0m (0.00 B)\n"
            ],
            "text/html": [
              "<pre style=\"white-space:pre;overflow-x:auto;line-height:normal;font-family:Menlo,'DejaVu Sans Mono',consolas,'Courier New',monospace\"><span style=\"font-weight: bold\"> Trainable params: </span><span style=\"color: #00af00; text-decoration-color: #00af00\">0</span> (0.00 B)\n",
              "</pre>\n"
            ]
          },
          "metadata": {}
        },
        {
          "output_type": "display_data",
          "data": {
            "text/plain": [
              "\u001b[1m Non-trainable params: \u001b[0m\u001b[38;5;34m0\u001b[0m (0.00 B)\n"
            ],
            "text/html": [
              "<pre style=\"white-space:pre;overflow-x:auto;line-height:normal;font-family:Menlo,'DejaVu Sans Mono',consolas,'Courier New',monospace\"><span style=\"font-weight: bold\"> Non-trainable params: </span><span style=\"color: #00af00; text-decoration-color: #00af00\">0</span> (0.00 B)\n",
              "</pre>\n"
            ]
          },
          "metadata": {}
        }
      ],
      "source": [
        "EMBEDDING_DIM_RANDOM = 100\n",
        "NUM_CLASSES = y_train.shape[1]\n",
        "\n",
        "model_os_random = Sequential([\n",
        "    Embedding(input_dim=MAX_NUM_WORDS,\n",
        "              output_dim=EMBEDDING_DIM_RANDOM,\n",
        "              input_length=MAX_SEQUENCE_LENGTH,\n",
        "              trainable=True),\n",
        "    Bidirectional(LSTM(128)),\n",
        "    Dropout(0.5),\n",
        "    Dense(64, activation='relu'),\n",
        "    Dropout(0.3),\n",
        "    Dense(NUM_CLASSES, activation='softmax')\n",
        "])\n",
        "\n",
        "model_os_random.compile(loss='categorical_crossentropy', optimizer='adam', metrics=['accuracy'])\n",
        "model_os_random.summary()"
      ]
    },
    {
      "cell_type": "code",
      "execution_count": 72,
      "id": "-Uc_xA0J7jG4",
      "metadata": {
        "colab": {
          "base_uri": "https://localhost:8080/",
          "height": 328
        },
        "id": "-Uc_xA0J7jG4",
        "outputId": "22501086-f876-467f-9c28-3f70553610cf"
      },
      "outputs": [
        {
          "output_type": "display_data",
          "data": {
            "text/plain": [
              "\u001b[1mModel: \"sequential_6\"\u001b[0m\n"
            ],
            "text/html": [
              "<pre style=\"white-space:pre;overflow-x:auto;line-height:normal;font-family:Menlo,'DejaVu Sans Mono',consolas,'Courier New',monospace\"><span style=\"font-weight: bold\">Model: \"sequential_6\"</span>\n",
              "</pre>\n"
            ]
          },
          "metadata": {}
        },
        {
          "output_type": "display_data",
          "data": {
            "text/plain": [
              "┏━━━━━━━━━━━━━━━━━━━━━━━━━━━━━━━━━┳━━━━━━━━━━━━━━━━━━━━━━━━┳━━━━━━━━━━━━━━━┓\n",
              "┃\u001b[1m \u001b[0m\u001b[1mLayer (type)                   \u001b[0m\u001b[1m \u001b[0m┃\u001b[1m \u001b[0m\u001b[1mOutput Shape          \u001b[0m\u001b[1m \u001b[0m┃\u001b[1m \u001b[0m\u001b[1m      Param #\u001b[0m\u001b[1m \u001b[0m┃\n",
              "┡━━━━━━━━━━━━━━━━━━━━━━━━━━━━━━━━━╇━━━━━━━━━━━━━━━━━━━━━━━━╇━━━━━━━━━━━━━━━┩\n",
              "│ embedding_6 (\u001b[38;5;33mEmbedding\u001b[0m)         │ ?                      │     \u001b[38;5;34m3,000,000\u001b[0m │\n",
              "├─────────────────────────────────┼────────────────────────┼───────────────┤\n",
              "│ bidirectional_2 (\u001b[38;5;33mBidirectional\u001b[0m) │ ?                      │   \u001b[38;5;34m0\u001b[0m (unbuilt) │\n",
              "├─────────────────────────────────┼────────────────────────┼───────────────┤\n",
              "│ dropout_12 (\u001b[38;5;33mDropout\u001b[0m)            │ ?                      │             \u001b[38;5;34m0\u001b[0m │\n",
              "├─────────────────────────────────┼────────────────────────┼───────────────┤\n",
              "│ dense_12 (\u001b[38;5;33mDense\u001b[0m)                │ ?                      │   \u001b[38;5;34m0\u001b[0m (unbuilt) │\n",
              "├─────────────────────────────────┼────────────────────────┼───────────────┤\n",
              "│ dropout_13 (\u001b[38;5;33mDropout\u001b[0m)            │ ?                      │             \u001b[38;5;34m0\u001b[0m │\n",
              "├─────────────────────────────────┼────────────────────────┼───────────────┤\n",
              "│ dense_13 (\u001b[38;5;33mDense\u001b[0m)                │ ?                      │   \u001b[38;5;34m0\u001b[0m (unbuilt) │\n",
              "└─────────────────────────────────┴────────────────────────┴───────────────┘\n"
            ],
            "text/html": [
              "<pre style=\"white-space:pre;overflow-x:auto;line-height:normal;font-family:Menlo,'DejaVu Sans Mono',consolas,'Courier New',monospace\">┏━━━━━━━━━━━━━━━━━━━━━━━━━━━━━━━━━┳━━━━━━━━━━━━━━━━━━━━━━━━┳━━━━━━━━━━━━━━━┓\n",
              "┃<span style=\"font-weight: bold\"> Layer (type)                    </span>┃<span style=\"font-weight: bold\"> Output Shape           </span>┃<span style=\"font-weight: bold\">       Param # </span>┃\n",
              "┡━━━━━━━━━━━━━━━━━━━━━━━━━━━━━━━━━╇━━━━━━━━━━━━━━━━━━━━━━━━╇━━━━━━━━━━━━━━━┩\n",
              "│ embedding_6 (<span style=\"color: #0087ff; text-decoration-color: #0087ff\">Embedding</span>)         │ ?                      │     <span style=\"color: #00af00; text-decoration-color: #00af00\">3,000,000</span> │\n",
              "├─────────────────────────────────┼────────────────────────┼───────────────┤\n",
              "│ bidirectional_2 (<span style=\"color: #0087ff; text-decoration-color: #0087ff\">Bidirectional</span>) │ ?                      │   <span style=\"color: #00af00; text-decoration-color: #00af00\">0</span> (unbuilt) │\n",
              "├─────────────────────────────────┼────────────────────────┼───────────────┤\n",
              "│ dropout_12 (<span style=\"color: #0087ff; text-decoration-color: #0087ff\">Dropout</span>)            │ ?                      │             <span style=\"color: #00af00; text-decoration-color: #00af00\">0</span> │\n",
              "├─────────────────────────────────┼────────────────────────┼───────────────┤\n",
              "│ dense_12 (<span style=\"color: #0087ff; text-decoration-color: #0087ff\">Dense</span>)                │ ?                      │   <span style=\"color: #00af00; text-decoration-color: #00af00\">0</span> (unbuilt) │\n",
              "├─────────────────────────────────┼────────────────────────┼───────────────┤\n",
              "│ dropout_13 (<span style=\"color: #0087ff; text-decoration-color: #0087ff\">Dropout</span>)            │ ?                      │             <span style=\"color: #00af00; text-decoration-color: #00af00\">0</span> │\n",
              "├─────────────────────────────────┼────────────────────────┼───────────────┤\n",
              "│ dense_13 (<span style=\"color: #0087ff; text-decoration-color: #0087ff\">Dense</span>)                │ ?                      │   <span style=\"color: #00af00; text-decoration-color: #00af00\">0</span> (unbuilt) │\n",
              "└─────────────────────────────────┴────────────────────────┴───────────────┘\n",
              "</pre>\n"
            ]
          },
          "metadata": {}
        },
        {
          "output_type": "display_data",
          "data": {
            "text/plain": [
              "\u001b[1m Total params: \u001b[0m\u001b[38;5;34m3,000,000\u001b[0m (11.44 MB)\n"
            ],
            "text/html": [
              "<pre style=\"white-space:pre;overflow-x:auto;line-height:normal;font-family:Menlo,'DejaVu Sans Mono',consolas,'Courier New',monospace\"><span style=\"font-weight: bold\"> Total params: </span><span style=\"color: #00af00; text-decoration-color: #00af00\">3,000,000</span> (11.44 MB)\n",
              "</pre>\n"
            ]
          },
          "metadata": {}
        },
        {
          "output_type": "display_data",
          "data": {
            "text/plain": [
              "\u001b[1m Trainable params: \u001b[0m\u001b[38;5;34m0\u001b[0m (0.00 B)\n"
            ],
            "text/html": [
              "<pre style=\"white-space:pre;overflow-x:auto;line-height:normal;font-family:Menlo,'DejaVu Sans Mono',consolas,'Courier New',monospace\"><span style=\"font-weight: bold\"> Trainable params: </span><span style=\"color: #00af00; text-decoration-color: #00af00\">0</span> (0.00 B)\n",
              "</pre>\n"
            ]
          },
          "metadata": {}
        },
        {
          "output_type": "display_data",
          "data": {
            "text/plain": [
              "\u001b[1m Non-trainable params: \u001b[0m\u001b[38;5;34m3,000,000\u001b[0m (11.44 MB)\n"
            ],
            "text/html": [
              "<pre style=\"white-space:pre;overflow-x:auto;line-height:normal;font-family:Menlo,'DejaVu Sans Mono',consolas,'Courier New',monospace\"><span style=\"font-weight: bold\"> Non-trainable params: </span><span style=\"color: #00af00; text-decoration-color: #00af00\">3,000,000</span> (11.44 MB)\n",
              "</pre>\n"
            ]
          },
          "metadata": {}
        }
      ],
      "source": [
        "EMBEDDING_DIM_PRETRAINED = 300\n",
        "\n",
        "model_os_pretrained = Sequential([\n",
        "    Embedding(input_dim=MAX_NUM_WORDS,\n",
        "              output_dim=EMBEDDING_DIM_PRETRAINED,\n",
        "              weights=[embedding_matrix],\n",
        "              input_length=MAX_SEQUENCE_LENGTH,\n",
        "              trainable=False),\n",
        "    Bidirectional(LSTM(128)),\n",
        "    Dropout(0.5),\n",
        "    Dense(64, activation='relu'),\n",
        "    Dropout(0.3),\n",
        "    Dense(NUM_CLASSES, activation='softmax')\n",
        "])\n",
        "\n",
        "model_os_pretrained.compile(loss='categorical_crossentropy', optimizer='adam', metrics=['accuracy'])\n",
        "model_os_pretrained.summary()"
      ]
    },
    {
      "cell_type": "code",
      "execution_count": 73,
      "id": "rsdR3EYT7uGI",
      "metadata": {
        "id": "rsdR3EYT7uGI"
      },
      "outputs": [],
      "source": [
        "EPOCHS = 10\n",
        "BATCH_SIZE = 32"
      ]
    },
    {
      "cell_type": "code",
      "execution_count": 74,
      "id": "rv23KmhI7u04",
      "metadata": {
        "colab": {
          "base_uri": "https://localhost:8080/"
        },
        "id": "rv23KmhI7u04",
        "outputId": "f35aa29e-adc4-47a4-b66a-3988fa052fae"
      },
      "outputs": [
        {
          "output_type": "stream",
          "name": "stdout",
          "text": [
            "Training BiLSTM with Random Embeddings...\n",
            "\n",
            "Epoch 1/10\n",
            "\u001b[1m99/99\u001b[0m \u001b[32m━━━━━━━━━━━━━━━━━━━━\u001b[0m\u001b[37m\u001b[0m \u001b[1m64s\u001b[0m 582ms/step - accuracy: 0.3375 - loss: 1.3439 - val_accuracy: 0.4799 - val_loss: 1.2076 - learning_rate: 0.0010\n",
            "Epoch 2/10\n",
            "\u001b[1m99/99\u001b[0m \u001b[32m━━━━━━━━━━━━━━━━━━━━\u001b[0m\u001b[37m\u001b[0m \u001b[1m63s\u001b[0m 393ms/step - accuracy: 0.8073 - loss: 0.5381 - val_accuracy: 0.6322 - val_loss: 1.0303 - learning_rate: 0.0010\n",
            "Epoch 3/10\n",
            "\u001b[1m99/99\u001b[0m \u001b[32m━━━━━━━━━━━━━━━━━━━━\u001b[0m\u001b[37m\u001b[0m \u001b[1m41s\u001b[0m 399ms/step - accuracy: 0.9721 - loss: 0.1099 - val_accuracy: 0.5891 - val_loss: 1.4200 - learning_rate: 0.0010\n",
            "Epoch 4/10\n",
            "\u001b[1m99/99\u001b[0m \u001b[32m━━━━━━━━━━━━━━━━━━━━\u001b[0m\u001b[37m\u001b[0m \u001b[1m0s\u001b[0m 372ms/step - accuracy: 0.9868 - loss: 0.0447\n",
            "Epoch 4: ReduceLROnPlateau reducing learning rate to 0.0005000000237487257.\n",
            "\u001b[1m99/99\u001b[0m \u001b[32m━━━━━━━━━━━━━━━━━━━━\u001b[0m\u001b[37m\u001b[0m \u001b[1m38s\u001b[0m 388ms/step - accuracy: 0.9868 - loss: 0.0447 - val_accuracy: 0.6178 - val_loss: 1.5093 - learning_rate: 0.0010\n",
            "Epoch 5/10\n",
            "\u001b[1m99/99\u001b[0m \u001b[32m━━━━━━━━━━━━━━━━━━━━\u001b[0m\u001b[37m\u001b[0m \u001b[1m38s\u001b[0m 386ms/step - accuracy: 0.9973 - loss: 0.0162 - val_accuracy: 0.6092 - val_loss: 1.7580 - learning_rate: 5.0000e-04\n",
            "Epoch 5: early stopping\n",
            "Restoring model weights from the end of the best epoch: 2.\n"
          ]
        }
      ],
      "source": [
        "# Train model with Random Embeddings\n",
        "print(\"Training BiLSTM with Random Embeddings...\\n\")\n",
        "history_os_random = model_os_random.fit(\n",
        "    X_train_balanced, y_train_balanced,\n",
        "    validation_data=(X_val, y_val),\n",
        "    epochs=EPOCHS,\n",
        "    batch_size=BATCH_SIZE,\n",
        "    callbacks=callbacks\n",
        ")"
      ]
    },
    {
      "cell_type": "code",
      "execution_count": 75,
      "id": "GIw2ZZuPGoh6",
      "metadata": {
        "colab": {
          "base_uri": "https://localhost:8080/"
        },
        "id": "GIw2ZZuPGoh6",
        "outputId": "8e5cf7bc-ec76-4a89-ca7a-58106e4c76ab"
      },
      "outputs": [
        {
          "output_type": "stream",
          "name": "stdout",
          "text": [
            "Test Loss (Random Embeddings): 0.9621\n",
            "Test Accuracy (Random Embeddings): 0.6431\n",
            "\u001b[1m19/19\u001b[0m \u001b[32m━━━━━━━━━━━━━━━━━━━━\u001b[0m\u001b[37m\u001b[0m \u001b[1m4s\u001b[0m 171ms/step\n",
            "Multi-Class Classification Report:\n",
            "\n",
            "                     precision    recall  f1-score   support\n",
            "\n",
            "         bug_report       0.73      0.70      0.72       233\n",
            "improvement_request       0.47      0.48      0.48       119\n",
            "             others       0.40      0.21      0.27        39\n",
            "             rating       0.67      0.76      0.71       189\n",
            "\n",
            "           accuracy                           0.64       580\n",
            "          macro avg       0.57      0.54      0.54       580\n",
            "       weighted avg       0.64      0.64      0.64       580\n",
            "\n"
          ]
        }
      ],
      "source": [
        "# Evaluate the model with random embeddings on the test data\n",
        "loss_os_random, accuracy_os_random = model_os_random.evaluate(X_test, y_test, verbose=0)\n",
        "print(f\"Test Loss (Random Embeddings): {loss_os_random:.4f}\")\n",
        "print(f\"Test Accuracy (Random Embeddings): {accuracy_os_random:.4f}\")\n",
        "\n",
        "y_pred_probs = model_os_random.predict(X_test)\n",
        "y_pred = np.argmax(y_pred_probs, axis=1)\n",
        "\n",
        "y_true = np.argmax(y_test, axis=1)\n",
        "label_cols = label_encoder.classes_\n",
        "\n",
        "print(\"Multi-Class Classification Report:\\n\")\n",
        "print(classification_report(y_true, y_pred, target_names=label_cols, zero_division=0))\n"
      ]
    },
    {
      "cell_type": "code",
      "execution_count": 76,
      "id": "jRW5LoBa7upK",
      "metadata": {
        "colab": {
          "base_uri": "https://localhost:8080/"
        },
        "id": "jRW5LoBa7upK",
        "outputId": "77b69f55-9584-41ff-96dd-af2498703940"
      },
      "outputs": [
        {
          "output_type": "stream",
          "name": "stdout",
          "text": [
            "Training BiLSTM with Pretrained FastText Embeddings...\n",
            "\n",
            "Epoch 1/10\n",
            "\u001b[1m99/99\u001b[0m \u001b[32m━━━━━━━━━━━━━━━━━━━━\u001b[0m\u001b[37m\u001b[0m \u001b[1m47s\u001b[0m 427ms/step - accuracy: 0.3267 - loss: 1.3499 - val_accuracy: 0.3994 - val_loss: 1.2729 - learning_rate: 0.0010\n",
            "Epoch 2/10\n",
            "\u001b[1m99/99\u001b[0m \u001b[32m━━━━━━━━━━━━━━━━━━━━\u001b[0m\u001b[37m\u001b[0m \u001b[1m42s\u001b[0m 429ms/step - accuracy: 0.5391 - loss: 1.1003 - val_accuracy: 0.3994 - val_loss: 1.2788 - learning_rate: 0.0010\n",
            "Epoch 3/10\n",
            "\u001b[1m99/99\u001b[0m \u001b[32m━━━━━━━━━━━━━━━━━━━━\u001b[0m\u001b[37m\u001b[0m \u001b[1m80s\u001b[0m 410ms/step - accuracy: 0.6246 - loss: 0.9214 - val_accuracy: 0.4943 - val_loss: 1.1771 - learning_rate: 0.0010\n",
            "Epoch 4/10\n",
            "\u001b[1m99/99\u001b[0m \u001b[32m━━━━━━━━━━━━━━━━━━━━\u001b[0m\u001b[37m\u001b[0m \u001b[1m42s\u001b[0m 425ms/step - accuracy: 0.6785 - loss: 0.8194 - val_accuracy: 0.4684 - val_loss: 1.2318 - learning_rate: 0.0010\n",
            "Epoch 5/10\n",
            "\u001b[1m99/99\u001b[0m \u001b[32m━━━━━━━━━━━━━━━━━━━━\u001b[0m\u001b[37m\u001b[0m \u001b[1m0s\u001b[0m 410ms/step - accuracy: 0.7484 - loss: 0.6620\n",
            "Epoch 5: ReduceLROnPlateau reducing learning rate to 0.0005000000237487257.\n",
            "\u001b[1m99/99\u001b[0m \u001b[32m━━━━━━━━━━━━━━━━━━━━\u001b[0m\u001b[37m\u001b[0m \u001b[1m82s\u001b[0m 431ms/step - accuracy: 0.7483 - loss: 0.6619 - val_accuracy: 0.5115 - val_loss: 1.2488 - learning_rate: 0.0010\n",
            "Epoch 6/10\n",
            "\u001b[1m99/99\u001b[0m \u001b[32m━━━━━━━━━━━━━━━━━━━━\u001b[0m\u001b[37m\u001b[0m \u001b[1m81s\u001b[0m 423ms/step - accuracy: 0.7856 - loss: 0.5531 - val_accuracy: 0.5057 - val_loss: 1.2667 - learning_rate: 5.0000e-04\n",
            "Epoch 6: early stopping\n",
            "Restoring model weights from the end of the best epoch: 3.\n"
          ]
        }
      ],
      "source": [
        "# Train model with Pretrained FastText Embeddings\n",
        "print(\"Training BiLSTM with Pretrained FastText Embeddings...\\n\")\n",
        "history_os_pretrained = model_os_pretrained.fit(\n",
        "    X_train_balanced, y_train_balanced,\n",
        "    validation_data=(X_val, y_val),\n",
        "    epochs=EPOCHS,\n",
        "    batch_size=BATCH_SIZE,\n",
        "    callbacks=callbacks\n",
        ")"
      ]
    },
    {
      "cell_type": "code",
      "execution_count": 77,
      "id": "3gmI9XL5HHJT",
      "metadata": {
        "colab": {
          "base_uri": "https://localhost:8080/"
        },
        "id": "3gmI9XL5HHJT",
        "outputId": "6fc0f178-d25d-4aa2-eeb2-138e01f438de"
      },
      "outputs": [
        {
          "output_type": "stream",
          "name": "stdout",
          "text": [
            "Test Loss (Pretrained Embeddings): 1.0502\n",
            "Test Accuracy (Pretrained Embeddings): 0.5586\n",
            "\u001b[1m19/19\u001b[0m \u001b[32m━━━━━━━━━━━━━━━━━━━━\u001b[0m\u001b[37m\u001b[0m \u001b[1m3s\u001b[0m 139ms/step\n",
            "Multi-Class Classification Report:\n",
            "\n",
            "                     precision    recall  f1-score   support\n",
            "\n",
            "         bug_report       0.74      0.55      0.63       233\n",
            "improvement_request       0.40      0.55      0.46       119\n",
            "             others       0.27      0.56      0.37        39\n",
            "             rating       0.67      0.57      0.62       189\n",
            "\n",
            "           accuracy                           0.56       580\n",
            "          macro avg       0.52      0.56      0.52       580\n",
            "       weighted avg       0.62      0.56      0.57       580\n",
            "\n"
          ]
        }
      ],
      "source": [
        "# Evaluate the model with pretrained embeddings on the test data\n",
        "loss_os_pretrained, accuracy_os_pretrained = model_os_pretrained.evaluate(X_test, y_test, verbose=0)\n",
        "print(f\"Test Loss (Pretrained Embeddings): {loss_os_pretrained:.4f}\")\n",
        "print(f\"Test Accuracy (Pretrained Embeddings): {accuracy_os_pretrained:.4f}\")\n",
        "\n",
        "\n",
        "y_pred_probs = model_os_pretrained.predict(X_test)\n",
        "y_pred = np.argmax(y_pred_probs, axis=1)\n",
        "\n",
        "y_true = np.argmax(y_test, axis=1)\n",
        "label_cols = label_encoder.classes_\n",
        "\n",
        "print(\"Multi-Class Classification Report:\\n\")\n",
        "print(classification_report(y_true, y_pred, target_names=label_cols, zero_division=0))"
      ]
    },
    {
      "cell_type": "code",
      "source": [
        "plot_history(\n",
        "    [history_os_random, history_os_pretrained],\n",
        "    [\"Random Embeddings\", \"Pretrained Embeddings\"],\n",
        "    metric='accuracy'\n",
        ")\n",
        "\n",
        "plot_history(\n",
        "    [history_os_random, history_os_pretrained],\n",
        "    [\"Random Embeddings\", \"Pretrained Embeddings\"],\n",
        "    metric='loss'\n",
        ")"
      ],
      "metadata": {
        "colab": {
          "base_uri": "https://localhost:8080/",
          "height": 1000
        },
        "id": "J2KxEzPWYihw",
        "outputId": "6d1b6ca2-7fe8-4aec-e4f5-c0a1c42f3969"
      },
      "id": "J2KxEzPWYihw",
      "execution_count": 78,
      "outputs": [
        {
          "output_type": "display_data",
          "data": {
            "text/plain": [
              "<Figure size 800x600 with 1 Axes>"
            ],
            "image/png": "[encoded data removed]"
          },
          "metadata": {}
        },
        {
          "output_type": "display_data",
          "data": {
            "text/plain": [
              "<Figure size 800x600 with 1 Axes>"
            ],
            "image/png": "[encoded data removed]"
          },
          "metadata": {}
        }
      ]
    },
    {
      "cell_type": "markdown",
      "id": "14b5f80a",
      "metadata": {
        "id": "14b5f80a"
      },
      "source": [
        "## Part-C: Multilabel App Review Classification: from scratch"
      ]
    },
    {
      "cell_type": "markdown",
      "source": [
        "### C.1 Loading data"
      ],
      "metadata": {
        "id": "-5VB3UHlLp2D"
      },
      "id": "-5VB3UHlLp2D"
    },
    {
      "cell_type": "code",
      "execution_count": 79,
      "id": "32b784ef",
      "metadata": {
        "id": "32b784ef"
      },
      "outputs": [],
      "source": [
        "# Load multilabel dataset\n",
        "df = pd.read_csv(\"App Reviews-Multilabel.csv\")\n",
        "\n",
        "# Define label columns\n",
        "label_cols = ['bug_report', 'improvement_request', 'rating', 'others']"
      ]
    },
    {
      "cell_type": "markdown",
      "source": [
        "#### C.2 Data statistics"
      ],
      "metadata": {
        "id": "rthLVOQVM5vi"
      },
      "id": "rthLVOQVM5vi"
    },
    {
      "cell_type": "code",
      "source": [
        "label_sums = df[label_cols].sum()\n",
        "\n",
        "plt.figure(figsize=(8, 4))\n",
        "sns.barplot(x=label_sums.index, y=label_sums.values)\n",
        "plt.title(\"Label Distribution per Class\")\n",
        "plt.ylabel(\"Number of Reviews\")\n",
        "plt.xlabel(\"Label\")\n",
        "plt.show()\n",
        "\n",
        "print(\"\\n\",label_sums)\n"
      ],
      "metadata": {
        "colab": {
          "base_uri": "https://localhost:8080/",
          "height": 518
        },
        "id": "-jkRTsgnMkpq",
        "outputId": "e2b7068e-3821-4240-c37e-57c3c2d3432e"
      },
      "id": "-jkRTsgnMkpq",
      "execution_count": 80,
      "outputs": [
        {
          "output_type": "display_data",
          "data": {
            "text/plain": [
              "<Figure size 800x400 with 1 Axes>"
            ],
            "image/png": "[encoded data removed]"
          },
          "metadata": {}
        },
        {
          "output_type": "stream",
          "name": "stdout",
          "text": [
            "\n",
            " bug_report             1164\n",
            "improvement_request    1103\n",
            "rating                 1971\n",
            "others                  820\n",
            "dtype: int64\n"
          ]
        }
      ]
    },
    {
      "cell_type": "code",
      "source": [
        "df['num_labels'] = df[label_cols].sum(axis=1)\n",
        "\n",
        "plt.figure(figsize=(6, 4))\n",
        "sns.countplot(x=df['num_labels'])\n",
        "plt.title(\"Number of Labels per Review\")\n",
        "plt.xlabel(\"Number of Labels\")\n",
        "plt.ylabel(\"Count\")\n",
        "plt.show()\n",
        "\n",
        "print(df['num_labels'].value_counts().sort_index())\n"
      ],
      "metadata": {
        "colab": {
          "base_uri": "https://localhost:8080/",
          "height": 518
        },
        "id": "jqZoM8fCMvzV",
        "outputId": "36ff69f5-7877-45de-c3d8-5b0e1d2010fb"
      },
      "id": "jqZoM8fCMvzV",
      "execution_count": 81,
      "outputs": [
        {
          "output_type": "display_data",
          "data": {
            "text/plain": [
              "<Figure size 600x400 with 1 Axes>"
            ],
            "image/png": "[encoded data removed]"
          },
          "metadata": {}
        },
        {
          "output_type": "stream",
          "name": "stdout",
          "text": [
            "num_labels\n",
            "1    1293\n",
            "2    1098\n",
            "3     467\n",
            "4      42\n",
            "Name: count, dtype: int64\n"
          ]
        }
      ]
    },
    {
      "cell_type": "code",
      "source": [
        "df['review_length'] = df['cleaned_review'].apply(lambda x: len(x.split()))\n",
        "\n",
        "print(\"Average review length:\", df['review_length'].mean())\n",
        "print(\"Max review length:\", df['review_length'].max())\n",
        "\n",
        "plt.hist(df['review_length'], bins=30, edgecolor='black')\n",
        "plt.title(\"Distribution of Review Lengths\")\n",
        "plt.xlabel(\"Number of Words\")\n",
        "plt.ylabel(\"Number of Reviews\")\n",
        "plt.xlim(0, 150)\n",
        "plt.show()\n"
      ],
      "metadata": {
        "colab": {
          "base_uri": "https://localhost:8080/",
          "height": 508
        },
        "id": "tBeqD2ZsM0M7",
        "outputId": "1e035d62-f8f4-4943-e8d3-e3506c111ecd"
      },
      "id": "tBeqD2ZsM0M7",
      "execution_count": 84,
      "outputs": [
        {
          "output_type": "stream",
          "name": "stdout",
          "text": [
            "Average review length: 13.346206896551724\n",
            "Max review length: 576\n"
          ]
        },
        {
          "output_type": "display_data",
          "data": {
            "text/plain": [
              "<Figure size 640x480 with 1 Axes>"
            ],
            "image/png": "[encoded data removed]"
          },
          "metadata": {}
        }
      ]
    },
    {
      "cell_type": "markdown",
      "source": [
        "#### C.3 Text preprocessing"
      ],
      "metadata": {
        "id": "WHYVIag9Lwfj"
      },
      "id": "WHYVIag9Lwfj"
    },
    {
      "cell_type": "code",
      "source": [
        "def preprocess_arabic(text):\n",
        "    text = str(text)\n",
        "    text = re.sub(\"[إأآا]\", \"ا\", text)\n",
        "    text = re.sub(\"ى\", \"ي\", text)\n",
        "    text = re.sub(\"ؤ\", \"و\", text)\n",
        "    text = re.sub(\"ئ\", \"ي\", text)\n",
        "    text = re.sub(\"ة\", \"ه\", text)\n",
        "    text = re.sub(\"گ\", \"ك\", text)\n",
        "    text = re.sub(r'[\\u064B-\\u0652]', '', text)\n",
        "    text = re.sub(r'(.)\\1+', r'\\1\\1', text)\n",
        "    text = re.sub(r'[^\\u0600-\\u06FF\\s]', '', text)\n",
        "    text = re.sub(r'\\s+', ' ', text).strip()\n",
        "    return text\n",
        "\n",
        "df['cleaned_review'] = df['review'].apply(preprocess_arabic)\n",
        "df.head()"
      ],
      "metadata": {
        "colab": {
          "base_uri": "https://localhost:8080/",
          "height": 206
        },
        "id": "B5npNDPrLljm",
        "outputId": "b069b22b-56f5-499f-aea0-6b9a84082c94"
      },
      "id": "B5npNDPrLljm",
      "execution_count": 83,
      "outputs": [
        {
          "output_type": "execute_result",
          "data": {
            "text/plain": [
              "                                              review  bug_report  \\\n",
              "0                                 يبيله تصليحات كثير           1   \n",
              "1                  ماتحملت ابدددددا ونا دفعت فلوس 🤔😕           0   \n",
              "2  اتمنى منكم عمل خيار لتفضيل المسلسل بالكامل عوض...           0   \n",
              "3      ممتاز وبسيط وتشغيله لا يؤثر على سرعة الانترنت           0   \n",
              "4                                تبين م لي ي تم ل يب           0   \n",
              "\n",
              "   improvement_request  rating  others  num_labels  \\\n",
              "0                    1       1       0           3   \n",
              "1                    1       1       1           3   \n",
              "2                    1       1       0           2   \n",
              "3                    0       1       0           1   \n",
              "4                    0       1       1           2   \n",
              "\n",
              "                                      cleaned_review  \n",
              "0                                 يبيله تصليحات كثير  \n",
              "1                        ماتحملت ابددا ونا دفعت فلوس  \n",
              "2  اتمني منكم عمل خيار لتفضيل المسلسل بالكامل عوض...  \n",
              "3      ممتاز وبسيط وتشغيله لا يوثر علي سرعه الانترنت  \n",
              "4                                تبين م لي ي تم ل يب  "
            ],
            "text/html": [
              "\n",
              "  <div id=\"df-48ed604e-afb2-4648-b61d-d30c4b09611a\" class=\"colab-df-container\">\n",
              "    <div>\n",
              "<style scoped>\n",
              "    .dataframe tbody tr th:only-of-type {\n",
              "        vertical-align: middle;\n",
              "    }\n",
              "\n",
              "    .dataframe tbody tr th {\n",
              "        vertical-align: top;\n",
              "    }\n",
              "\n",
              "    .dataframe thead th {\n",
              "        text-align: right;\n",
              "    }\n",
              "</style>\n",
              "<table border=\"1\" class=\"dataframe\">\n",
              "  <thead>\n",
              "    <tr style=\"text-align: right;\">\n",
              "      <th></th>\n",
              "      <th>review</th>\n",
              "      <th>bug_report</th>\n",
              "      <th>improvement_request</th>\n",
              "      <th>rating</th>\n",
              "      <th>others</th>\n",
              "      <th>num_labels</th>\n",
              "      <th>cleaned_review</th>\n",
              "    </tr>\n",
              "  </thead>\n",
              "  <tbody>\n",
              "    <tr>\n",
              "      <th>0</th>\n",
              "      <td>يبيله تصليحات كثير</td>\n",
              "      <td>1</td>\n",
              "      <td>1</td>\n",
              "      <td>1</td>\n",
              "      <td>0</td>\n",
              "      <td>3</td>\n",
              "      <td>يبيله تصليحات كثير</td>\n",
              "    </tr>\n",
              "    <tr>\n",
              "      <th>1</th>\n",
              "      <td>ماتحملت ابدددددا ونا دفعت فلوس 🤔😕</td>\n",
              "      <td>0</td>\n",
              "      <td>1</td>\n",
              "      <td>1</td>\n",
              "      <td>1</td>\n",
              "      <td>3</td>\n",
              "      <td>ماتحملت ابددا ونا دفعت فلوس</td>\n",
              "    </tr>\n",
              "    <tr>\n",
              "      <th>2</th>\n",
              "      <td>اتمنى منكم عمل خيار لتفضيل المسلسل بالكامل عوض...</td>\n",
              "      <td>0</td>\n",
              "      <td>1</td>\n",
              "      <td>1</td>\n",
              "      <td>0</td>\n",
              "      <td>2</td>\n",
              "      <td>اتمني منكم عمل خيار لتفضيل المسلسل بالكامل عوض...</td>\n",
              "    </tr>\n",
              "    <tr>\n",
              "      <th>3</th>\n",
              "      <td>ممتاز وبسيط وتشغيله لا يؤثر على سرعة الانترنت</td>\n",
              "      <td>0</td>\n",
              "      <td>0</td>\n",
              "      <td>1</td>\n",
              "      <td>0</td>\n",
              "      <td>1</td>\n",
              "      <td>ممتاز وبسيط وتشغيله لا يوثر علي سرعه الانترنت</td>\n",
              "    </tr>\n",
              "    <tr>\n",
              "      <th>4</th>\n",
              "      <td>تبين م لي ي تم ل يب</td>\n",
              "      <td>0</td>\n",
              "      <td>0</td>\n",
              "      <td>1</td>\n",
              "      <td>1</td>\n",
              "      <td>2</td>\n",
              "      <td>تبين م لي ي تم ل يب</td>\n",
              "    </tr>\n",
              "  </tbody>\n",
              "</table>\n",
              "</div>\n",
              "    <div class=\"colab-df-buttons\">\n",
              "\n",
              "  <div class=\"colab-df-container\">\n",
              "    <button class=\"colab-df-convert\" onclick=\"convertToInteractive('df-48ed604e-afb2-4648-b61d-d30c4b09611a')\"\n",
              "            title=\"Convert this dataframe to an interactive table.\"\n",
              "            style=\"display:none;\">\n",
              "\n",
              "  <svg xmlns=\"http://www.w3.org/2000/svg\" height=\"24px\" viewBox=\"0 -960 960 960\">\n",
              "    <path d=\"M120-120v-720h720v720H120Zm60-500h600v-160H180v160Zm220 220h160v-160H400v160Zm0 220h160v-160H400v160ZM180-400h160v-160H180v160Zm440 0h160v-160H620v160ZM180-180h160v-160H180v160Zm440 0h160v-160H620v160Z\"/>\n",
              "  </svg>\n",
              "    </button>\n",
              "\n",
              "  <style>\n",
              "    .colab-df-container {\n",
              "      display:flex;\n",
              "      gap: 12px;\n",
              "    }\n",
              "\n",
              "    .colab-df-convert {\n",
              "      background-color: #E8F0FE;\n",
              "      border: none;\n",
              "      border-radius: 50%;\n",
              "      cursor: pointer;\n",
              "      display: none;\n",
              "      fill: #1967D2;\n",
              "      height: 32px;\n",
              "      padding: 0 0 0 0;\n",
              "      width: 32px;\n",
              "    }\n",
              "\n",
              "    .colab-df-convert:hover {\n",
              "      background-color: #E2EBFA;\n",
              "      box-shadow: 0px 1px 2px rgba(60, 64, 67, 0.3), 0px 1px 3px 1px rgba(60, 64, 67, 0.15);\n",
              "      fill: #174EA6;\n",
              "    }\n",
              "\n",
              "    .colab-df-buttons div {\n",
              "      margin-bottom: 4px;\n",
              "    }\n",
              "\n",
              "    [theme=dark] .colab-df-convert {\n",
              "      background-color: #3B4455;\n",
              "      fill: #D2E3FC;\n",
              "    }\n",
              "\n",
              "    [theme=dark] .colab-df-convert:hover {\n",
              "      background-color: #434B5C;\n",
              "      box-shadow: 0px 1px 3px 1px rgba(0, 0, 0, 0.15);\n",
              "      filter: drop-shadow(0px 1px 2px rgba(0, 0, 0, 0.3));\n",
              "      fill: #FFFFFF;\n",
              "    }\n",
              "  </style>\n",
              "\n",
              "    <script>\n",
              "      const buttonEl =\n",
              "        document.querySelector('#df-48ed604e-afb2-4648-b61d-d30c4b09611a button.colab-df-convert');\n",
              "      buttonEl.style.display =\n",
              "        google.colab.kernel.accessAllowed ? 'block' : 'none';\n",
              "\n",
              "      async function convertToInteractive(key) {\n",
              "        const element = document.querySelector('#df-48ed604e-afb2-4648-b61d-d30c4b09611a');\n",
              "        const dataTable =\n",
              "          await google.colab.kernel.invokeFunction('convertToInteractive',\n",
              "                                                    [key], {});\n",
              "        if (!dataTable) return;\n",
              "\n",
              "        const docLinkHtml = 'Like what you see? Visit the ' +\n",
              "          '<a target=\"_blank\" href=https://colab.research.google.com/notebooks/data_table.ipynb>data table notebook</a>'\n",
              "          + ' to learn more about interactive tables.';\n",
              "        element.innerHTML = '';\n",
              "        dataTable['output_type'] = 'display_data';\n",
              "        await google.colab.output.renderOutput(dataTable, element);\n",
              "        const docLink = document.createElement('div');\n",
              "        docLink.innerHTML = docLinkHtml;\n",
              "        element.appendChild(docLink);\n",
              "      }\n",
              "    </script>\n",
              "  </div>\n",
              "\n",
              "\n",
              "<div id=\"df-e21e035f-ee8c-49b3-875e-a8d571684fa6\">\n",
              "  <button class=\"colab-df-quickchart\" onclick=\"quickchart('df-e21e035f-ee8c-49b3-875e-a8d571684fa6')\"\n",
              "            title=\"Suggest charts\"\n",
              "            style=\"display:none;\">\n",
              "\n",
              "<svg xmlns=\"http://www.w3.org/2000/svg\" height=\"24px\"viewBox=\"0 0 24 24\"\n",
              "     width=\"24px\">\n",
              "    <g>\n",
              "        <path d=\"M19 3H5c-1.1 0-2 .9-2 2v14c0 1.1.9 2 2 2h14c1.1 0 2-.9 2-2V5c0-1.1-.9-2-2-2zM9 17H7v-7h2v7zm4 0h-2V7h2v10zm4 0h-2v-4h2v4z\"/>\n",
              "    </g>\n",
              "</svg>\n",
              "  </button>\n",
              "\n",
              "<style>\n",
              "  .colab-df-quickchart {\n",
              "      --bg-color: #E8F0FE;\n",
              "      --fill-color: #1967D2;\n",
              "      --hover-bg-color: #E2EBFA;\n",
              "      --hover-fill-color: #174EA6;\n",
              "      --disabled-fill-color: #AAA;\n",
              "      --disabled-bg-color: #DDD;\n",
              "  }\n",
              "\n",
              "  [theme=dark] .colab-df-quickchart {\n",
              "      --bg-color: #3B4455;\n",
              "      --fill-color: #D2E3FC;\n",
              "      --hover-bg-color: #434B5C;\n",
              "      --hover-fill-color: #FFFFFF;\n",
              "      --disabled-bg-color: #3B4455;\n",
              "      --disabled-fill-color: #666;\n",
              "  }\n",
              "\n",
              "  .colab-df-quickchart {\n",
              "    background-color: var(--bg-color);\n",
              "    border: none;\n",
              "    border-radius: 50%;\n",
              "    cursor: pointer;\n",
              "    display: none;\n",
              "    fill: var(--fill-color);\n",
              "    height: 32px;\n",
              "    padding: 0;\n",
              "    width: 32px;\n",
              "  }\n",
              "\n",
              "  .colab-df-quickchart:hover {\n",
              "    background-color: var(--hover-bg-color);\n",
              "    box-shadow: 0 1px 2px rgba(60, 64, 67, 0.3), 0 1px 3px 1px rgba(60, 64, 67, 0.15);\n",
              "    fill: var(--button-hover-fill-color);\n",
              "  }\n",
              "\n",
              "  .colab-df-quickchart-complete:disabled,\n",
              "  .colab-df-quickchart-complete:disabled:hover {\n",
              "    background-color: var(--disabled-bg-color);\n",
              "    fill: var(--disabled-fill-color);\n",
              "    box-shadow: none;\n",
              "  }\n",
              "\n",
              "  .colab-df-spinner {\n",
              "    border: 2px solid var(--fill-color);\n",
              "    border-color: transparent;\n",
              "    border-bottom-color: var(--fill-color);\n",
              "    animation:\n",
              "      spin 1s steps(1) infinite;\n",
              "  }\n",
              "\n",
              "  @keyframes spin {\n",
              "    0% {\n",
              "      border-color: transparent;\n",
              "      border-bottom-color: var(--fill-color);\n",
              "      border-left-color: var(--fill-color);\n",
              "    }\n",
              "    20% {\n",
              "      border-color: transparent;\n",
              "      border-left-color: var(--fill-color);\n",
              "      border-top-color: var(--fill-color);\n",
              "    }\n",
              "    30% {\n",
              "      border-color: transparent;\n",
              "      border-left-color: var(--fill-color);\n",
              "      border-top-color: var(--fill-color);\n",
              "      border-right-color: var(--fill-color);\n",
              "    }\n",
              "    40% {\n",
              "      border-color: transparent;\n",
              "      border-right-color: var(--fill-color);\n",
              "      border-top-color: var(--fill-color);\n",
              "    }\n",
              "    60% {\n",
              "      border-color: transparent;\n",
              "      border-right-color: var(--fill-color);\n",
              "    }\n",
              "    80% {\n",
              "      border-color: transparent;\n",
              "      border-right-color: var(--fill-color);\n",
              "      border-bottom-color: var(--fill-color);\n",
              "    }\n",
              "    90% {\n",
              "      border-color: transparent;\n",
              "      border-bottom-color: var(--fill-color);\n",
              "    }\n",
              "  }\n",
              "</style>\n",
              "\n",
              "  <script>\n",
              "    async function quickchart(key) {\n",
              "      const quickchartButtonEl =\n",
              "        document.querySelector('#' + key + ' button');\n",
              "      quickchartButtonEl.disabled = true;  // To prevent multiple clicks.\n",
              "      quickchartButtonEl.classList.add('colab-df-spinner');\n",
              "      try {\n",
              "        const charts = await google.colab.kernel.invokeFunction(\n",
              "            'suggestCharts', [key], {});\n",
              "      } catch (error) {\n",
              "        console.error('Error during call to suggestCharts:', error);\n",
              "      }\n",
              "      quickchartButtonEl.classList.remove('colab-df-spinner');\n",
              "      quickchartButtonEl.classList.add('colab-df-quickchart-complete');\n",
              "    }\n",
              "    (() => {\n",
              "      let quickchartButtonEl =\n",
              "        document.querySelector('#df-e21e035f-ee8c-49b3-875e-a8d571684fa6 button');\n",
              "      quickchartButtonEl.style.display =\n",
              "        google.colab.kernel.accessAllowed ? 'block' : 'none';\n",
              "    })();\n",
              "  </script>\n",
              "</div>\n",
              "\n",
              "    </div>\n",
              "  </div>\n"
            ],
            "application/vnd.google.colaboratory.intrinsic+json": {
              "type": "dataframe",
              "variable_name": "df",
              "summary": "{\n  \"name\": \"df\",\n  \"rows\": 2900,\n  \"fields\": [\n    {\n      \"column\": \"review\",\n      \"properties\": {\n        \"dtype\": \"string\",\n        \"num_unique_values\": 2892,\n        \"samples\": [\n          \"\\u0645\\u0646 \\u0627\\u0641\\u0636\\u0644 \\u0627\\u0644\\u062a\\u0628\\u064a\\u0637\\u0642\\u0627\\u062a \\u0628\\u0639\\u062f \\u062a\\u0648\\u0643\\u0644\\u0646\\u0627\",\n          \"\\u0645\\u0634\\u0643\\u0644\\u062a\\u0647 \\u0628\\u064a\\u0639\\u0645\\u0644 \\u062a\\u0648\\u0642\\u0641 \\u0644\\u0644\\u0627\\u0645\\u064a\\u0644 \\u0648\\u0627\\u0644\\u0633\\u0628\\u0628 \\u0643\\u062b\\u0631\\u0647 \\u0627\\u0644\\u0627\\u0628\\u0644\\u0627\\u063a\\u0627\\u062a \\u0648\\u0627\\u0646\\u0627 \\u0645\\u0634 \\u0628\\u0641\\u062a\\u062d\\u0647 \\u0627\\u0635\\u0644\\u0627\",\n          \"\\u064a\\u0627 \\u0644\\u064a\\u062a \\u062a\\u0636\\u064a\\u0641\\u0648\\u0646 \\u062e\\u064a\\u0627\\u0631\\u0627\\u062a \\u0627\\u062f\\u062e\\u0627\\u0644 \\u0627\\u0644\\u0645\\u0639\\u0644\\u0648\\u0645\\u0627\\u062a\"\n        ],\n        \"semantic_type\": \"\",\n        \"description\": \"\"\n      }\n    },\n    {\n      \"column\": \"bug_report\",\n      \"properties\": {\n        \"dtype\": \"number\",\n        \"std\": 0,\n        \"min\": 0,\n        \"max\": 1,\n        \"num_unique_values\": 2,\n        \"samples\": [\n          0,\n          1\n        ],\n        \"semantic_type\": \"\",\n        \"description\": \"\"\n      }\n    },\n    {\n      \"column\": \"improvement_request\",\n      \"properties\": {\n        \"dtype\": \"number\",\n        \"std\": 0,\n        \"min\": 0,\n        \"max\": 1,\n        \"num_unique_values\": 2,\n        \"samples\": [\n          0,\n          1\n        ],\n        \"semantic_type\": \"\",\n        \"description\": \"\"\n      }\n    },\n    {\n      \"column\": \"rating\",\n      \"properties\": {\n        \"dtype\": \"number\",\n        \"std\": 0,\n        \"min\": 0,\n        \"max\": 1,\n        \"num_unique_values\": 2,\n        \"samples\": [\n          0,\n          1\n        ],\n        \"semantic_type\": \"\",\n        \"description\": \"\"\n      }\n    },\n    {\n      \"column\": \"others\",\n      \"properties\": {\n        \"dtype\": \"number\",\n        \"std\": 0,\n        \"min\": 0,\n        \"max\": 1,\n        \"num_unique_values\": 2,\n        \"samples\": [\n          1,\n          0\n        ],\n        \"semantic_type\": \"\",\n        \"description\": \"\"\n      }\n    },\n    {\n      \"column\": \"num_labels\",\n      \"properties\": {\n        \"dtype\": \"number\",\n        \"std\": 0,\n        \"min\": 1,\n        \"max\": 4,\n        \"num_unique_values\": 4,\n        \"samples\": [\n          2,\n          4\n        ],\n        \"semantic_type\": \"\",\n        \"description\": \"\"\n      }\n    },\n    {\n      \"column\": \"cleaned_review\",\n      \"properties\": {\n        \"dtype\": \"string\",\n        \"num_unique_values\": 2890,\n        \"samples\": [\n          \"\\u0627\\u0644\\u062a\\u062d\\u062f\\u064a\\u062b \\u0627\\u0644\\u062c\\u062f\\u064a\\u062f \\u0644\\u0627 \\u0646\\u0633\\u062a\\u0637\\u064a\\u0639 \\u0627\\u0644\\u062f\\u062e\\u0648\\u0644 \\u0644\\u0644\\u062f\\u0631\\u062f\\u0634\\u0647 \\u0627\\u0630\\u0627 \\u0643\\u0627\\u0646 \\u0627\\u0644\\u0645\\u0639\\u0644\\u0645 \\u0644\\u0645 \\u064a\\u0628\\u062f\\u0627 \\u0627\\u0644\\u0628\\u062b\",\n          \"\\u064a\\u0641\\u0635\\u0644 \\u0648\\u064a\\u0637\\u0644\\u0639 \\u0627\\u0644\\u0645\\u0633\\u062a\\u062e\\u062f\\u0645 \\u0644\\u064a\\u064a\\u0647 \\u062d\\u0644\\u0648 \\u0627\\u0644\\u0645\\u0634\\u0643\\u0644\\u0647\"\n        ],\n        \"semantic_type\": \"\",\n        \"description\": \"\"\n      }\n    }\n  ]\n}"
            }
          },
          "metadata": {},
          "execution_count": 83
        }
      ]
    },
    {
      "cell_type": "markdown",
      "source": [
        "#### C.4 Data splitting"
      ],
      "metadata": {
        "id": "Wa8KJw4uPQJB"
      },
      "id": "Wa8KJw4uPQJB"
    },
    {
      "cell_type": "code",
      "source": [
        "label_cols = ['bug_report', 'improvement_request', 'rating', 'others']\n",
        "X_text = df['cleaned_review']\n",
        "y = df[label_cols].values\n",
        "\n",
        "# 80-20 train/test\n",
        "X_train_text, X_test_text, y_train, y_test = train_test_split(X_text, y, test_size=0.2, random_state=SEED)\n",
        "\n",
        "# 15% val from train\n",
        "X_train_text, X_val_text, y_train, y_val = train_test_split(X_train_text, y_train, test_size=0.15, random_state=SEED)\n"
      ],
      "metadata": {
        "id": "tKvLk0E6N15S"
      },
      "id": "tKvLk0E6N15S",
      "execution_count": 85,
      "outputs": []
    },
    {
      "cell_type": "markdown",
      "source": [
        "#### C.5 Tokenization and padding"
      ],
      "metadata": {
        "id": "2uLJy3zSNbgB"
      },
      "id": "2uLJy3zSNbgB"
    },
    {
      "cell_type": "code",
      "source": [
        "MAX_NUM_WORDS = 10000\n",
        "MAX_SEQUENCE_LENGTH = 120\n",
        "\n",
        "tokenizer = Tokenizer(num_words=MAX_NUM_WORDS, oov_token=\"<OOV>\")\n",
        "tokenizer.fit_on_texts(X_train_text)\n",
        "\n",
        "X_train = pad_sequences(tokenizer.texts_to_sequences(X_train_text), maxlen=MAX_SEQUENCE_LENGTH, padding='post')\n",
        "X_val = pad_sequences(tokenizer.texts_to_sequences(X_val_text), maxlen=MAX_SEQUENCE_LENGTH, padding='post')\n",
        "X_test = pad_sequences(tokenizer.texts_to_sequences(X_test_text), maxlen=MAX_SEQUENCE_LENGTH, padding='post')"
      ],
      "metadata": {
        "id": "Mmki7DN-NlD3"
      },
      "id": "Mmki7DN-NlD3",
      "execution_count": 86,
      "outputs": []
    },
    {
      "cell_type": "markdown",
      "source": [
        "#### C.6 Building BiLSTM model"
      ],
      "metadata": {
        "id": "KBHY70IWPvFm"
      },
      "id": "KBHY70IWPvFm"
    },
    {
      "cell_type": "code",
      "source": [
        "embedding_index = {}\n",
        "with open(\"cc.ar.300.vec\", encoding='utf-8') as f:\n",
        "    next(f)  # skip header\n",
        "    for line in f:\n",
        "        values = line.rstrip().split()\n",
        "        word = values[0]\n",
        "        coefs = np.asarray(values[1:], dtype='float32')\n",
        "        embedding_index[word] = coefs\n",
        "\n",
        "print(f\"Loaded {len(embedding_index)} word vectors.\")"
      ],
      "metadata": {
        "id": "ALfYAQfZPyyN"
      },
      "id": "ALfYAQfZPyyN",
      "execution_count": null,
      "outputs": []
    },
    {
      "cell_type": "code",
      "source": [
        "# Build embedding matrix\n",
        "EMBEDDING_DIM = 300\n",
        "embedding_matrix = np.zeros((MAX_NUM_WORDS, EMBEDDING_DIM))\n",
        "\n",
        "for word, i in tokenizer.word_index.items():\n",
        "    if i < MAX_NUM_WORDS:\n",
        "        embedding_vector = embedding_index.get(word)\n",
        "        if embedding_vector is not None:\n",
        "            embedding_matrix[i] = embedding_vector"
      ],
      "metadata": {
        "id": "LSa0CkN3P4Ei"
      },
      "id": "LSa0CkN3P4Ei",
      "execution_count": null,
      "outputs": []
    },
    {
      "cell_type": "code",
      "source": [
        "EMBEDDING_DIM = 300\n",
        "np.save('embedding_matrix.npy', embedding_matrix)\n"
      ],
      "metadata": {
        "id": "9qQ2EHpcRIPk"
      },
      "id": "9qQ2EHpcRIPk",
      "execution_count": 88,
      "outputs": []
    },
    {
      "cell_type": "code",
      "source": [
        "NUM_CLASSES = len(label_cols)\n",
        "\n",
        "model = Sequential([\n",
        "    Embedding(input_dim=MAX_NUM_WORDS,\n",
        "              output_dim=EMBEDDING_DIM,\n",
        "              weights=[embedding_matrix],\n",
        "              input_length=MAX_SEQUENCE_LENGTH,\n",
        "              trainable=False),\n",
        "    Bidirectional(LSTM(128, return_sequences=False)),\n",
        "    Dropout(0.5),\n",
        "    Dense(64, activation='relu'),\n",
        "    Dropout(0.3),\n",
        "    Dense(NUM_CLASSES, activation='sigmoid')  # multilabel output\n",
        "])\n",
        "\n",
        "model.compile(loss='binary_crossentropy', optimizer='adam', metrics=['accuracy'])\n",
        "model.summary()"
      ],
      "metadata": {
        "colab": {
          "base_uri": "https://localhost:8080/",
          "height": 364
        },
        "id": "rEYw8pXVRnbN",
        "outputId": "dd7d3311-bde5-40f2-c0b5-18744fc3a709"
      },
      "id": "rEYw8pXVRnbN",
      "execution_count": 89,
      "outputs": [
        {
          "output_type": "stream",
          "name": "stderr",
          "text": [
            "/usr/local/lib/python3.11/dist-packages/keras/src/layers/core/embedding.py:90: UserWarning: Argument `input_length` is deprecated. Just remove it.\n",
            "  warnings.warn(\n"
          ]
        },
        {
          "output_type": "display_data",
          "data": {
            "text/plain": [
              "\u001b[1mModel: \"sequential_7\"\u001b[0m\n"
            ],
            "text/html": [
              "<pre style=\"white-space:pre;overflow-x:auto;line-height:normal;font-family:Menlo,'DejaVu Sans Mono',consolas,'Courier New',monospace\"><span style=\"font-weight: bold\">Model: \"sequential_7\"</span>\n",
              "</pre>\n"
            ]
          },
          "metadata": {}
        },
        {
          "output_type": "display_data",
          "data": {
            "text/plain": [
              "┏━━━━━━━━━━━━━━━━━━━━━━━━━━━━━━━━━┳━━━━━━━━━━━━━━━━━━━━━━━━┳━━━━━━━━━━━━━━━┓\n",
              "┃\u001b[1m \u001b[0m\u001b[1mLayer (type)                   \u001b[0m\u001b[1m \u001b[0m┃\u001b[1m \u001b[0m\u001b[1mOutput Shape          \u001b[0m\u001b[1m \u001b[0m┃\u001b[1m \u001b[0m\u001b[1m      Param #\u001b[0m\u001b[1m \u001b[0m┃\n",
              "┡━━━━━━━━━━━━━━━━━━━━━━━━━━━━━━━━━╇━━━━━━━━━━━━━━━━━━━━━━━━╇━━━━━━━━━━━━━━━┩\n",
              "│ embedding_7 (\u001b[38;5;33mEmbedding\u001b[0m)         │ ?                      │     \u001b[38;5;34m3,000,000\u001b[0m │\n",
              "├─────────────────────────────────┼────────────────────────┼───────────────┤\n",
              "│ bidirectional_3 (\u001b[38;5;33mBidirectional\u001b[0m) │ ?                      │   \u001b[38;5;34m0\u001b[0m (unbuilt) │\n",
              "├─────────────────────────────────┼────────────────────────┼───────────────┤\n",
              "│ dropout_14 (\u001b[38;5;33mDropout\u001b[0m)            │ ?                      │             \u001b[38;5;34m0\u001b[0m │\n",
              "├─────────────────────────────────┼────────────────────────┼───────────────┤\n",
              "│ dense_14 (\u001b[38;5;33mDense\u001b[0m)                │ ?                      │   \u001b[38;5;34m0\u001b[0m (unbuilt) │\n",
              "├─────────────────────────────────┼────────────────────────┼───────────────┤\n",
              "│ dropout_15 (\u001b[38;5;33mDropout\u001b[0m)            │ ?                      │             \u001b[38;5;34m0\u001b[0m │\n",
              "├─────────────────────────────────┼────────────────────────┼───────────────┤\n",
              "│ dense_15 (\u001b[38;5;33mDense\u001b[0m)                │ ?                      │   \u001b[38;5;34m0\u001b[0m (unbuilt) │\n",
              "└─────────────────────────────────┴────────────────────────┴───────────────┘\n"
            ],
            "text/html": [
              "<pre style=\"white-space:pre;overflow-x:auto;line-height:normal;font-family:Menlo,'DejaVu Sans Mono',consolas,'Courier New',monospace\">┏━━━━━━━━━━━━━━━━━━━━━━━━━━━━━━━━━┳━━━━━━━━━━━━━━━━━━━━━━━━┳━━━━━━━━━━━━━━━┓\n",
              "┃<span style=\"font-weight: bold\"> Layer (type)                    </span>┃<span style=\"font-weight: bold\"> Output Shape           </span>┃<span style=\"font-weight: bold\">       Param # </span>┃\n",
              "┡━━━━━━━━━━━━━━━━━━━━━━━━━━━━━━━━━╇━━━━━━━━━━━━━━━━━━━━━━━━╇━━━━━━━━━━━━━━━┩\n",
              "│ embedding_7 (<span style=\"color: #0087ff; text-decoration-color: #0087ff\">Embedding</span>)         │ ?                      │     <span style=\"color: #00af00; text-decoration-color: #00af00\">3,000,000</span> │\n",
              "├─────────────────────────────────┼────────────────────────┼───────────────┤\n",
              "│ bidirectional_3 (<span style=\"color: #0087ff; text-decoration-color: #0087ff\">Bidirectional</span>) │ ?                      │   <span style=\"color: #00af00; text-decoration-color: #00af00\">0</span> (unbuilt) │\n",
              "├─────────────────────────────────┼────────────────────────┼───────────────┤\n",
              "│ dropout_14 (<span style=\"color: #0087ff; text-decoration-color: #0087ff\">Dropout</span>)            │ ?                      │             <span style=\"color: #00af00; text-decoration-color: #00af00\">0</span> │\n",
              "├─────────────────────────────────┼────────────────────────┼───────────────┤\n",
              "│ dense_14 (<span style=\"color: #0087ff; text-decoration-color: #0087ff\">Dense</span>)                │ ?                      │   <span style=\"color: #00af00; text-decoration-color: #00af00\">0</span> (unbuilt) │\n",
              "├─────────────────────────────────┼────────────────────────┼───────────────┤\n",
              "│ dropout_15 (<span style=\"color: #0087ff; text-decoration-color: #0087ff\">Dropout</span>)            │ ?                      │             <span style=\"color: #00af00; text-decoration-color: #00af00\">0</span> │\n",
              "├─────────────────────────────────┼────────────────────────┼───────────────┤\n",
              "│ dense_15 (<span style=\"color: #0087ff; text-decoration-color: #0087ff\">Dense</span>)                │ ?                      │   <span style=\"color: #00af00; text-decoration-color: #00af00\">0</span> (unbuilt) │\n",
              "└─────────────────────────────────┴────────────────────────┴───────────────┘\n",
              "</pre>\n"
            ]
          },
          "metadata": {}
        },
        {
          "output_type": "display_data",
          "data": {
            "text/plain": [
              "\u001b[1m Total params: \u001b[0m\u001b[38;5;34m3,000,000\u001b[0m (11.44 MB)\n"
            ],
            "text/html": [
              "<pre style=\"white-space:pre;overflow-x:auto;line-height:normal;font-family:Menlo,'DejaVu Sans Mono',consolas,'Courier New',monospace\"><span style=\"font-weight: bold\"> Total params: </span><span style=\"color: #00af00; text-decoration-color: #00af00\">3,000,000</span> (11.44 MB)\n",
              "</pre>\n"
            ]
          },
          "metadata": {}
        },
        {
          "output_type": "display_data",
          "data": {
            "text/plain": [
              "\u001b[1m Trainable params: \u001b[0m\u001b[38;5;34m0\u001b[0m (0.00 B)\n"
            ],
            "text/html": [
              "<pre style=\"white-space:pre;overflow-x:auto;line-height:normal;font-family:Menlo,'DejaVu Sans Mono',consolas,'Courier New',monospace\"><span style=\"font-weight: bold\"> Trainable params: </span><span style=\"color: #00af00; text-decoration-color: #00af00\">0</span> (0.00 B)\n",
              "</pre>\n"
            ]
          },
          "metadata": {}
        },
        {
          "output_type": "display_data",
          "data": {
            "text/plain": [
              "\u001b[1m Non-trainable params: \u001b[0m\u001b[38;5;34m3,000,000\u001b[0m (11.44 MB)\n"
            ],
            "text/html": [
              "<pre style=\"white-space:pre;overflow-x:auto;line-height:normal;font-family:Menlo,'DejaVu Sans Mono',consolas,'Courier New',monospace\"><span style=\"font-weight: bold\"> Non-trainable params: </span><span style=\"color: #00af00; text-decoration-color: #00af00\">3,000,000</span> (11.44 MB)\n",
              "</pre>\n"
            ]
          },
          "metadata": {}
        }
      ]
    },
    {
      "cell_type": "code",
      "source": [
        "callbacks = [\n",
        "    EarlyStopping(monitor='val_loss', patience=3, restore_best_weights=True),\n",
        "    ReduceLROnPlateau(monitor='val_loss', factor=0.5, patience=2)\n",
        "]\n",
        "\n",
        "EPOCHS = 20\n",
        "BATCH_SIZE = 32"
      ],
      "metadata": {
        "id": "yfvlqDExRs8L"
      },
      "id": "yfvlqDExRs8L",
      "execution_count": 90,
      "outputs": []
    },
    {
      "cell_type": "code",
      "source": [
        "history = model.fit(\n",
        "    X_train, y_train,\n",
        "    validation_data=(X_val, y_val),\n",
        "    epochs=EPOCHS,\n",
        "    batch_size=BATCH_SIZE,\n",
        "    callbacks=callbacks\n",
        ")"
      ],
      "metadata": {
        "colab": {
          "base_uri": "https://localhost:8080/"
        },
        "id": "-m6z7ZeFRwct",
        "outputId": "6df19121-35c8-4f2c-a3e9-57895a8f60d4"
      },
      "id": "-m6z7ZeFRwct",
      "execution_count": 91,
      "outputs": [
        {
          "output_type": "stream",
          "name": "stdout",
          "text": [
            "Epoch 1/20\n",
            "\u001b[1m62/62\u001b[0m \u001b[32m━━━━━━━━━━━━━━━━━━━━\u001b[0m\u001b[37m\u001b[0m \u001b[1m37s\u001b[0m 463ms/step - accuracy: 0.3314 - loss: 0.6529 - val_accuracy: 0.4282 - val_loss: 0.5735 - learning_rate: 0.0010\n",
            "Epoch 2/20\n",
            "\u001b[1m62/62\u001b[0m \u001b[32m━━━━━━━━━━━━━━━━━━━━\u001b[0m\u001b[37m\u001b[0m \u001b[1m42s\u001b[0m 475ms/step - accuracy: 0.4559 - loss: 0.5538 - val_accuracy: 0.5029 - val_loss: 0.5096 - learning_rate: 0.0010\n",
            "Epoch 3/20\n",
            "\u001b[1m62/62\u001b[0m \u001b[32m━━━━━━━━━━━━━━━━━━━━\u001b[0m\u001b[37m\u001b[0m \u001b[1m37s\u001b[0m 414ms/step - accuracy: 0.5671 - loss: 0.4741 - val_accuracy: 0.5546 - val_loss: 0.4919 - learning_rate: 0.0010\n",
            "Epoch 4/20\n",
            "\u001b[1m62/62\u001b[0m \u001b[32m━━━━━━━━━━━━━━━━━━━━\u001b[0m\u001b[37m\u001b[0m \u001b[1m43s\u001b[0m 446ms/step - accuracy: 0.5790 - loss: 0.4611 - val_accuracy: 0.5374 - val_loss: 0.4674 - learning_rate: 0.0010\n",
            "Epoch 5/20\n",
            "\u001b[1m62/62\u001b[0m \u001b[32m━━━━━━━━━━━━━━━━━━━━\u001b[0m\u001b[37m\u001b[0m \u001b[1m41s\u001b[0m 450ms/step - accuracy: 0.5854 - loss: 0.4227 - val_accuracy: 0.5718 - val_loss: 0.4603 - learning_rate: 0.0010\n",
            "Epoch 6/20\n",
            "\u001b[1m62/62\u001b[0m \u001b[32m━━━━━━━━━━━━━━━━━━━━\u001b[0m\u001b[37m\u001b[0m \u001b[1m42s\u001b[0m 466ms/step - accuracy: 0.6289 - loss: 0.4026 - val_accuracy: 0.5661 - val_loss: 0.4617 - learning_rate: 0.0010\n",
            "Epoch 7/20\n",
            "\u001b[1m62/62\u001b[0m \u001b[32m━━━━━━━━━━━━━━━━━━━━\u001b[0m\u001b[37m\u001b[0m \u001b[1m29s\u001b[0m 463ms/step - accuracy: 0.6167 - loss: 0.4009 - val_accuracy: 0.5891 - val_loss: 0.4537 - learning_rate: 0.0010\n",
            "Epoch 8/20\n",
            "\u001b[1m62/62\u001b[0m \u001b[32m━━━━━━━━━━━━━━━━━━━━\u001b[0m\u001b[37m\u001b[0m \u001b[1m40s\u001b[0m 445ms/step - accuracy: 0.6194 - loss: 0.3920 - val_accuracy: 0.6092 - val_loss: 0.4572 - learning_rate: 0.0010\n",
            "Epoch 9/20\n",
            "\u001b[1m62/62\u001b[0m \u001b[32m━━━━━━━━━━━━━━━━━━━━\u001b[0m\u001b[37m\u001b[0m \u001b[1m28s\u001b[0m 451ms/step - accuracy: 0.6513 - loss: 0.3777 - val_accuracy: 0.5776 - val_loss: 0.4526 - learning_rate: 0.0010\n",
            "Epoch 10/20\n",
            "\u001b[1m62/62\u001b[0m \u001b[32m━━━━━━━━━━━━━━━━━━━━\u001b[0m\u001b[37m\u001b[0m \u001b[1m41s\u001b[0m 443ms/step - accuracy: 0.6370 - loss: 0.3565 - val_accuracy: 0.5546 - val_loss: 0.4537 - learning_rate: 0.0010\n",
            "Epoch 11/20\n",
            "\u001b[1m62/62\u001b[0m \u001b[32m━━━━━━━━━━━━━━━━━━━━\u001b[0m\u001b[37m\u001b[0m \u001b[1m27s\u001b[0m 444ms/step - accuracy: 0.6491 - loss: 0.3443 - val_accuracy: 0.5632 - val_loss: 0.4726 - learning_rate: 0.0010\n",
            "Epoch 12/20\n",
            "\u001b[1m62/62\u001b[0m \u001b[32m━━━━━━━━━━━━━━━━━━━━\u001b[0m\u001b[37m\u001b[0m \u001b[1m27s\u001b[0m 444ms/step - accuracy: 0.6617 - loss: 0.3201 - val_accuracy: 0.5862 - val_loss: 0.4617 - learning_rate: 5.0000e-04\n"
          ]
        }
      ]
    },
    {
      "cell_type": "code",
      "source": [
        "# Accuracy\n",
        "plt.plot(history.history['accuracy'], label='Train Accuracy')\n",
        "plt.plot(history.history['val_accuracy'], label='Val Accuracy')\n",
        "plt.title(\"Multilabel Accuracy Over Epochs\")\n",
        "plt.xlabel(\"Epoch\")\n",
        "plt.ylabel(\"Accuracy\")\n",
        "plt.legend()\n",
        "plt.grid()\n",
        "plt.show()\n",
        "\n",
        "# Loss\n",
        "plt.plot(history.history['loss'], label='Train Loss')\n",
        "plt.plot(history.history['val_loss'], label='Val Loss')\n",
        "plt.title(\"Loss Over Epochs\")\n",
        "plt.xlabel(\"Epoch\")\n",
        "plt.ylabel(\"Loss\")\n",
        "plt.legend()\n",
        "plt.grid()\n",
        "plt.show()"
      ],
      "metadata": {
        "colab": {
          "base_uri": "https://localhost:8080/",
          "height": 927
        },
        "id": "Lop1fXLMVFpB",
        "outputId": "91e8336f-f5cc-4335-d9e6-b740460d3697"
      },
      "id": "Lop1fXLMVFpB",
      "execution_count": 92,
      "outputs": [
        {
          "output_type": "display_data",
          "data": {
            "text/plain": [
              "<Figure size 640x480 with 1 Axes>"
            ],
            "image/png": "[encoded data removed]"
          },
          "metadata": {}
        },
        {
          "output_type": "display_data",
          "data": {
            "text/plain": [
              "<Figure size 640x480 with 1 Axes>"
            ],
            "image/png": "[encoded data removed]"
          },
          "metadata": {}
        }
      ]
    },
    {
      "cell_type": "markdown",
      "source": [
        "#### C.7 Model evaluation"
      ],
      "metadata": {
        "id": "ga72cUAuUrfl"
      },
      "id": "ga72cUAuUrfl"
    },
    {
      "cell_type": "code",
      "source": [
        "# Evaluate the model with pretrained embeddings on the test data\n",
        "loss, accuracy = model.evaluate(X_test, y_test, verbose=0)\n",
        "print(f\"Test Loss (Pretrained Embeddings): {loss:.4f}\")\n",
        "print(f\"Test Accuracy (Pretrained Embeddings): {accuracy:.4f}\")\n",
        "\n",
        "y_pred_probs = model.predict(X_test)\n",
        "y_pred_binary = (y_pred_probs >= 0.5).astype(int)  # thresholding\n",
        "\n",
        "print(\"Multilabel Classification Report:\\n\")\n",
        "print(classification_report(y_test, y_pred_binary, target_names=label_cols, zero_division=0))"
      ],
      "metadata": {
        "colab": {
          "base_uri": "https://localhost:8080/"
        },
        "id": "1EYgPNpcUuXs",
        "outputId": "71a75c54-b968-4eb4-d254-bfb218d061d5"
      },
      "id": "1EYgPNpcUuXs",
      "execution_count": 93,
      "outputs": [
        {
          "output_type": "stream",
          "name": "stdout",
          "text": [
            "Test Loss (Pretrained Embeddings): 0.4654\n",
            "Test Accuracy (Pretrained Embeddings): 0.5534\n",
            "\u001b[1m19/19\u001b[0m \u001b[32m━━━━━━━━━━━━━━━━━━━━\u001b[0m\u001b[37m\u001b[0m \u001b[1m3s\u001b[0m 135ms/step\n",
            "Multilabel Classification Report:\n",
            "\n",
            "                     precision    recall  f1-score   support\n",
            "\n",
            "         bug_report       0.77      0.77      0.77       239\n",
            "improvement_request       0.70      0.63      0.66       238\n",
            "             rating       0.88      0.78      0.82       384\n",
            "             others       0.65      0.54      0.59       159\n",
            "\n",
            "          micro avg       0.78      0.70      0.74      1020\n",
            "          macro avg       0.75      0.68      0.71      1020\n",
            "       weighted avg       0.78      0.70      0.74      1020\n",
            "        samples avg       0.81      0.75      0.74      1020\n",
            "\n"
          ]
        }
      ]
    },
    {
      "cell_type": "markdown",
      "id": "0b4f4239",
      "metadata": {
        "id": "0b4f4239"
      },
      "source": [
        "## Part-D: Multiclass App Review Classification: Finetune an MLM"
      ]
    },
    {
      "cell_type": "code",
      "execution_count": 93,
      "id": "7c14768e",
      "metadata": {
        "id": "7c14768e"
      },
      "outputs": [],
      "source": []
    },
    {
      "cell_type": "markdown",
      "id": "95e14cd5",
      "metadata": {
        "id": "95e14cd5"
      },
      "source": [
        "## Part-E: Multilabel App Review Classification: Finetune an MLM"
      ]
    },
    {
      "cell_type": "code",
      "execution_count": 93,
      "id": "bd0bfc5b",
      "metadata": {
        "id": "bd0bfc5b"
      },
      "outputs": [],
      "source": []
    },
    {
      "cell_type": "markdown",
      "id": "4e98776b",
      "metadata": {
        "id": "4e98776b"
      },
      "source": [
        "## Part-F: Multiclass App Review Classification: In-Context learning using causal LLM\n"
      ]
    },
    {
      "cell_type": "markdown",
      "id": "22f2959f",
      "metadata": {
        "id": "22f2959f"
      },
      "source": [
        "#### Zero-shot learning"
      ]
    },
    {
      "cell_type": "code",
      "execution_count": 93,
      "id": "4be851b4",
      "metadata": {
        "id": "4be851b4"
      },
      "outputs": [],
      "source": []
    },
    {
      "cell_type": "markdown",
      "id": "4285809c",
      "metadata": {
        "id": "4285809c"
      },
      "source": [
        "#### Few-shot learning"
      ]
    },
    {
      "cell_type": "code",
      "execution_count": 93,
      "id": "1e7d2b2a",
      "metadata": {
        "id": "1e7d2b2a"
      },
      "outputs": [],
      "source": []
    },
    {
      "cell_type": "markdown",
      "id": "964152ab",
      "metadata": {
        "id": "964152ab"
      },
      "source": [
        "## Part-G: Multilabel App Review Classification: In-Context learning using causal LLM\n"
      ]
    },
    {
      "cell_type": "markdown",
      "id": "a08d2b5a",
      "metadata": {
        "id": "a08d2b5a"
      },
      "source": [
        "#### Zero-shot learning"
      ]
    },
    {
      "cell_type": "code",
      "execution_count": 93,
      "id": "edd4177e",
      "metadata": {
        "id": "edd4177e"
      },
      "outputs": [],
      "source": []
    },
    {
      "cell_type": "markdown",
      "id": "118e681c",
      "metadata": {
        "id": "118e681c"
      },
      "source": [
        "#### Few-shot learning"
      ]
    },
    {
      "cell_type": "code",
      "execution_count": 93,
      "id": "7e3d6dc2",
      "metadata": {
        "id": "7e3d6dc2"
      },
      "outputs": [],
      "source": []
    }
  ],
  "metadata": {
    "colab": {
      "provenance": []
    },
    "kernelspec": {
      "display_name": "Python 3",
      "name": "python3"
    },
    "language_info": {
      "name": "python",
      "version": "3.11.9"
    }
  },
  "nbformat": 4,
  "nbformat_minor": 5
}